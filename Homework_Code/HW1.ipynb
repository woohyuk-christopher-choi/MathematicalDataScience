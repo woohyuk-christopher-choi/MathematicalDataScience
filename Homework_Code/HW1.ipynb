{
 "cells": [
  {
   "cell_type": "markdown",
   "metadata": {},
   "source": [
    "# [LaTeX]"
   ]
  },
  {
   "cell_type": "markdown",
   "metadata": {},
   "source": [
    "The SIR model is the following system of quadratic ODEs:\n",
    "\n",
    "$$\\frac {dS} {dt} = -\\beta S I$$\n",
    "$$\\frac {dI} {dt} = \\beta S I - \\nu I$$\n",
    "$$\\frac {dR} {dt} = \\nu I,$$ \n",
    "\n",
    "where the diseas transmission rate $\\beta >0$ and the recovery rate"
   ]
  },
  {
   "cell_type": "markdown",
   "metadata": {},
   "source": []
  },
  {
   "cell_type": "markdown",
   "metadata": {},
   "source": []
  }
 ],
 "metadata": {
  "language_info": {
   "name": "python"
  },
  "orig_nbformat": 4
 },
 "nbformat": 4,
 "nbformat_minor": 2
}
