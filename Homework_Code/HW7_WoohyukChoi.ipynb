{
  "cells": [
    {
      "cell_type": "markdown",
      "metadata": {},
      "source": [
        "# Problem 2"
      ]
    },
    {
      "cell_type": "code",
      "execution_count": 1,
      "metadata": {},
      "outputs": [
        {
          "data": {
            "image/png": "[encoded data removed]",
            "text/plain": [
              "<Figure size 360x360 with 1 Axes>"
            ]
          },
          "metadata": {
            "needs_background": "light"
          },
          "output_type": "display_data"
        },
        {
          "data": {
            "application/vnd.plotly.v1+json": {
              "config": {
                "plotlyServerURL": "https://plot.ly"
              },
              "data": [
                {
                  "hoverinfo": "none",
                  "line": {
                    "color": "#888",
                    "width": 1
                  },
                  "mode": "lines",
                  "name": "edge_trace",
                  "type": "scatter",
                  "uid": "63bb58b4-72a1-40b9-8034-227f4d7a5b18",
                  "x": [
                    1.9148575698657035,
                    1.75648899013108,
                    null,
                    1.9148575698657035,
                    1.9840139157960255,
                    null,
                    1.75648899013108,
                    1.5177775709591896,
                    null,
                    1.9840139157960255,
                    1.9572274489938288,
                    null,
                    1.5177775709591896,
                    1.2109190568403103,
                    null,
                    1.2109190568403103,
                    0.8509421044352224,
                    null,
                    0.8509421044352224,
                    0.4551550700980957,
                    null,
                    0.4551550700980957,
                    0.041718037828423246,
                    null,
                    0.041718037828423246,
                    -0.3850930749650255,
                    null,
                    -0.3850930749650255,
                    -0.4941643432646641,
                    null,
                    -0.3850930749650255,
                    -0.7466733562557892,
                    null,
                    -0.7466733562557892,
                    -1.0867392591870968,
                    null,
                    -1.0867392591870968,
                    -1.3654712262422726,
                    null,
                    -1.3654712262422726,
                    -1.5675428932632742,
                    null,
                    -1.5675428932632742,
                    -1.686711585573752,
                    null,
                    -1.686711585573752,
                    -1.7903479145189822,
                    null,
                    -1.7903479145189822,
                    -2.207823985891801,
                    null,
                    -1.7903479145189822,
                    -1.649025978638466,
                    null,
                    -1.649025978638466,
                    -1.4940922232860183,
                    null,
                    -1.4940922232860183,
                    -1.2601860480262688,
                    null,
                    -1.2601860480262688,
                    -0.9557961157865394,
                    null,
                    -0.9557961157865394,
                    -0.596733443293175,
                    null,
                    -0.596733443293175,
                    -0.2006867202248646,
                    null,
                    -0.2006867202248646,
                    0.21305219640351886,
                    null,
                    0.21305219640351886,
                    0.6239799079891123,
                    null,
                    0.6239799079891123,
                    1.0102210847933286,
                    null,
                    1.0102210847933286,
                    1.3523158901741854,
                    null,
                    1.3523158901741854,
                    1.633013206343785,
                    null,
                    1.633013206343785,
                    1.8381269697894305,
                    null,
                    1.8381269697894305,
                    1.9572274489938288,
                    null
                  ],
                  "y": [
                    0.3978304034765628,
                    0.7814522426732966,
                    null,
                    0.3978304034765628,
                    -0.011684466488669755,
                    null,
                    0.7814522426732966,
                    1.1205003671132598,
                    null,
                    -0.011684466488669755,
                    -0.4262782039935713,
                    null,
                    1.1205003671132598,
                    1.3986430044440086,
                    null,
                    1.3986430044440086,
                    1.6021493247516199,
                    null,
                    1.6021493247516199,
                    1.7199990627546666,
                    null,
                    1.7199990627546666,
                    1.7491430148375844,
                    null,
                    1.7491430148375844,
                    1.7596565787506522,
                    null,
                    1.7596565787506522,
                    2.1631468120832364,
                    null,
                    1.7596565787506522,
                    1.5338166423481678,
                    null,
                    1.5338166423481678,
                    1.2986093508490477,
                    null,
                    1.2986093508490477,
                    0.9961054797934147,
                    null,
                    0.9961054797934147,
                    0.6378218732562162,
                    null,
                    0.6378218732562162,
                    0.24188486977111426,
                    null,
                    0.24188486977111426,
                    -0.17164081027824604,
                    null,
                    -0.17164081027824604,
                    -0.19200351622626916,
                    null,
                    -0.17164081027824604,
                    -0.5745134599466154,
                    null,
                    -0.5745134599466154,
                    -0.9589287051548193,
                    null,
                    -0.9589287051548193,
                    -1.2992577194574266,
                    null,
                    -1.2992577194574266,
                    -1.57915948412893,
                    null,
                    -1.57915948412893,
                    -1.7855558789953718,
                    null,
                    -1.7855558789953718,
                    -1.9083718631818494,
                    null,
                    -1.9083718631818494,
                    -1.9410281330962187,
                    null,
                    -1.9410281330962187,
                    -1.8808330768111907,
                    null,
                    -1.8808330768111907,
                    -1.7277865631599048,
                    null,
                    -1.7277865631599048,
                    -1.491994899120553,
                    null,
                    -1.491994899120553,
                    -1.185658328580164,
                    null,
                    -1.185658328580164,
                    -0.8243254881312674,
                    null,
                    -0.8243254881312674,
                    -0.4262782039935713,
                    null
                  ]
                },
                {
                  "hoverinfo": "text",
                  "hovertext": [
                    "Node ID: 0<br>Pullback set label: 7<br>Partial cluster label: 0<br>Node size: 14523<br>Summary statistic: 50000.0",
                    "Node ID: 1<br>Pullback set label: 8<br>Partial cluster label: 0<br>Node size: 4393<br>Summary statistic: 8270.0",
                    "Node ID: 2<br>Pullback set label: 6<br>Partial cluster label: 0<br>Node size: 4480<br>Summary statistic: 91800.0",
                    "Node ID: 3<br>Pullback set label: 9<br>Partial cluster label: 0<br>Node size: 2889<br>Summary statistic: 11200.0",
                    "Node ID: 4<br>Pullback set label: 10<br>Partial cluster label: 0<br>Node size: 2481<br>Summary statistic: 13400.0",
                    "Node ID: 5<br>Pullback set label: 11<br>Partial cluster label: 0<br>Node size: 2437<br>Summary statistic: 15400.0",
                    "Node ID: 6<br>Pullback set label: 12<br>Partial cluster label: 0<br>Node size: 2554<br>Summary statistic: 17400.0",
                    "Node ID: 7<br>Pullback set label: 13<br>Partial cluster label: 0<br>Node size: 3225<br>Summary statistic: 19800.0",
                    "Node ID: 8<br>Pullback set label: 14<br>Partial cluster label: 0<br>Node size: 8944<br>Summary statistic: 25000.0",
                    "Node ID: 9<br>Pullback set label: 13<br>Partial cluster label: -1<br>Node size: 2<br>Summary statistic: 27300.0",
                    "Node ID: 10<br>Pullback set label: 13<br>Partial cluster label: 1<br>Node size: 3250<br>Summary statistic: 30200.0",
                    "Node ID: 11<br>Pullback set label: 12<br>Partial cluster label: 1<br>Node size: 2566<br>Summary statistic: 32600.0",
                    "Node ID: 12<br>Pullback set label: 11<br>Partial cluster label: 1<br>Node size: 2387<br>Summary statistic: 34600.0",
                    "Node ID: 13<br>Pullback set label: 10<br>Partial cluster label: 1<br>Node size: 2506<br>Summary statistic: 36600.0",
                    "Node ID: 14<br>Pullback set label: 9<br>Partial cluster label: 1<br>Node size: 2929<br>Summary statistic: 38800.0",
                    "Node ID: 15<br>Pullback set label: 8<br>Partial cluster label: 1<br>Node size: 4369<br>Summary statistic: 41800.0",
                    "Node ID: 16<br>Pullback set label: 7<br>Partial cluster label: -1<br>Node size: 1<br>Summary statistic: 40800.0",
                    "Node ID: 17<br>Pullback set label: 7<br>Partial cluster label: 1<br>Node size: 14549<br>Summary statistic: 50000.0",
                    "Node ID: 18<br>Pullback set label: 6<br>Partial cluster label: 1<br>Node size: 4435<br>Summary statistic: 58100.0",
                    "Node ID: 19<br>Pullback set label: 5<br>Partial cluster label: 0<br>Node size: 2917<br>Summary statistic: 61200.0",
                    "Node ID: 20<br>Pullback set label: 4<br>Partial cluster label: 0<br>Node size: 2519<br>Summary statistic: 63400.0",
                    "Node ID: 21<br>Pullback set label: 3<br>Partial cluster label: 0<br>Node size: 2407<br>Summary statistic: 65400.0",
                    "Node ID: 22<br>Pullback set label: 2<br>Partial cluster label: 0<br>Node size: 2558<br>Summary statistic: 67400.0",
                    "Node ID: 23<br>Pullback set label: 1<br>Partial cluster label: 0<br>Node size: 3192<br>Summary statistic: 69700.0",
                    "Node ID: 24<br>Pullback set label: 0<br>Partial cluster label: 0<br>Node size: 8970<br>Summary statistic: 75000.0",
                    "Node ID: 25<br>Pullback set label: 1<br>Partial cluster label: 1<br>Node size: 3207<br>Summary statistic: 80300.0",
                    "Node ID: 26<br>Pullback set label: 2<br>Partial cluster label: 1<br>Node size: 2522<br>Summary statistic: 82600.0",
                    "Node ID: 27<br>Pullback set label: 3<br>Partial cluster label: 1<br>Node size: 2447<br>Summary statistic: 84600.0",
                    "Node ID: 28<br>Pullback set label: 4<br>Partial cluster label: 1<br>Node size: 2471<br>Summary statistic: 86600.0",
                    "Node ID: 29<br>Pullback set label: 5<br>Partial cluster label: 1<br>Node size: 2882<br>Summary statistic: 88800.0"
                  ],
                  "marker": {
                    "color": [
                      49950.37106658404,
                      8274.392670157067,
                      91842.459375,
                      11219.222222222223,
                      13408.472793228537,
                      15394.451784981535,
                      17397.598277212215,
                      19755.1888372093,
                      25009.51665921288,
                      27276.5,
                      30247.293538461538,
                      32606.750194855806,
                      34610.31001256808,
                      36587.6572226656,
                      38800.127688630935,
                      41849.92401007096,
                      40804,
                      49976.183105368065,
                      58059.62773393461,
                      61205.371271854645,
                      63374.34616911473,
                      65377.79601163274,
                      67367.11024237686,
                      69713.58740601504,
                      74999.67157190635,
                      80280.59557218585,
                      82635.72085646313,
                      84630.29301185124,
                      86628.92027519223,
                      88790.71582234559
                    ],
                    "colorbar": {
                      "thickness": 15,
                      "title": {
                        "side": "right",
                        "text": ""
                      },
                      "xanchor": "left"
                    },
                    "colorscale": [
                      [
                        0,
                        "#440154"
                      ],
                      [
                        0.1111111111111111,
                        "#482878"
                      ],
                      [
                        0.2222222222222222,
                        "#3e4989"
                      ],
                      [
                        0.3333333333333333,
                        "#31688e"
                      ],
                      [
                        0.4444444444444444,
                        "#26828e"
                      ],
                      [
                        0.5555555555555556,
                        "#1f9e89"
                      ],
                      [
                        0.6666666666666666,
                        "#35b779"
                      ],
                      [
                        0.7777777777777778,
                        "#6ece58"
                      ],
                      [
                        0.8888888888888888,
                        "#b5de2b"
                      ],
                      [
                        1,
                        "#fde725"
                      ]
                    ],
                    "line": {
                      "color": "#888",
                      "width": 1
                    },
                    "opacity": 1,
                    "reversescale": false,
                    "showscale": true,
                    "size": [
                      14523,
                      4393,
                      4480,
                      2889,
                      2481,
                      2437,
                      2554,
                      3225,
                      8944,
                      2,
                      3250,
                      2566,
                      2387,
                      2506,
                      2929,
                      4369,
                      1,
                      14549,
                      4435,
                      2917,
                      2519,
                      2407,
                      2558,
                      3192,
                      8970,
                      3207,
                      2522,
                      2447,
                      2471,
                      2882
                    ],
                    "sizemin": 4,
                    "sizemode": "area",
                    "sizeref": 202.06944444444446
                  },
                  "mode": "markers",
                  "name": "node_trace",
                  "type": "scatter",
                  "uid": "db527f8a-151f-4e5d-b27f-6ff669e37e35",
                  "x": [
                    1.9148575698657035,
                    1.75648899013108,
                    1.9840139157960255,
                    1.5177775709591896,
                    1.2109190568403103,
                    0.8509421044352224,
                    0.4551550700980957,
                    0.041718037828423246,
                    -0.3850930749650255,
                    -0.4941643432646641,
                    -0.7466733562557892,
                    -1.0867392591870968,
                    -1.3654712262422726,
                    -1.5675428932632742,
                    -1.686711585573752,
                    -1.7903479145189822,
                    -2.207823985891801,
                    -1.649025978638466,
                    -1.4940922232860183,
                    -1.2601860480262688,
                    -0.9557961157865394,
                    -0.596733443293175,
                    -0.2006867202248646,
                    0.21305219640351886,
                    0.6239799079891123,
                    1.0102210847933286,
                    1.3523158901741854,
                    1.633013206343785,
                    1.8381269697894305,
                    1.9572274489938288
                  ],
                  "y": [
                    0.3978304034765628,
                    0.7814522426732966,
                    -0.011684466488669755,
                    1.1205003671132598,
                    1.3986430044440086,
                    1.6021493247516199,
                    1.7199990627546666,
                    1.7491430148375844,
                    1.7596565787506522,
                    2.1631468120832364,
                    1.5338166423481678,
                    1.2986093508490477,
                    0.9961054797934147,
                    0.6378218732562162,
                    0.24188486977111426,
                    -0.17164081027824604,
                    -0.19200351622626916,
                    -0.5745134599466154,
                    -0.9589287051548193,
                    -1.2992577194574266,
                    -1.57915948412893,
                    -1.7855558789953718,
                    -1.9083718631818494,
                    -1.9410281330962187,
                    -1.8808330768111907,
                    -1.7277865631599048,
                    -1.491994899120553,
                    -1.185658328580164,
                    -0.8243254881312674,
                    -0.4262782039935713
                  ]
                }
              ],
              "layout": {
                "autosize": false,
                "hovermode": "closest",
                "margin": {
                  "b": 20,
                  "l": 5,
                  "r": 5,
                  "t": 40
                },
                "showlegend": false,
                "template": {
                  "data": {
                    "bar": [
                      {
                        "error_x": {
                          "color": "rgb(36,36,36)"
                        },
                        "error_y": {
                          "color": "rgb(36,36,36)"
                        },
                        "marker": {
                          "line": {
                            "color": "white",
                            "width": 0.5
                          },
                          "pattern": {
                            "fillmode": "overlay",
                            "size": 10,
                            "solidity": 0.2
                          }
                        },
                        "type": "bar"
                      }
                    ],
                    "barpolar": [
                      {
                        "marker": {
                          "line": {
                            "color": "white",
                            "width": 0.5
                          },
                          "pattern": {
                            "fillmode": "overlay",
                            "size": 10,
                            "solidity": 0.2
                          }
                        },
                        "type": "barpolar"
                      }
                    ],
                    "carpet": [
                      {
                        "aaxis": {
                          "endlinecolor": "rgb(36,36,36)",
                          "gridcolor": "white",
                          "linecolor": "white",
                          "minorgridcolor": "white",
                          "startlinecolor": "rgb(36,36,36)"
                        },
                        "baxis": {
                          "endlinecolor": "rgb(36,36,36)",
                          "gridcolor": "white",
                          "linecolor": "white",
                          "minorgridcolor": "white",
                          "startlinecolor": "rgb(36,36,36)"
                        },
                        "type": "carpet"
                      }
                    ],
                    "choropleth": [
                      {
                        "colorbar": {
                          "outlinewidth": 1,
                          "tickcolor": "rgb(36,36,36)",
                          "ticks": "outside"
                        },
                        "type": "choropleth"
                      }
                    ],
                    "contour": [
                      {
                        "colorbar": {
                          "outlinewidth": 1,
                          "tickcolor": "rgb(36,36,36)",
                          "ticks": "outside"
                        },
                        "colorscale": [
                          [
                            0,
                            "#440154"
                          ],
                          [
                            0.1111111111111111,
                            "#482878"
                          ],
                          [
                            0.2222222222222222,
                            "#3e4989"
                          ],
                          [
                            0.3333333333333333,
                            "#31688e"
                          ],
                          [
                            0.4444444444444444,
                            "#26828e"
                          ],
                          [
                            0.5555555555555556,
                            "#1f9e89"
                          ],
                          [
                            0.6666666666666666,
                            "#35b779"
                          ],
                          [
                            0.7777777777777778,
                            "#6ece58"
                          ],
                          [
                            0.8888888888888888,
                            "#b5de2b"
                          ],
                          [
                            1,
                            "#fde725"
                          ]
                        ],
                        "type": "contour"
                      }
                    ],
                    "contourcarpet": [
                      {
                        "colorbar": {
                          "outlinewidth": 1,
                          "tickcolor": "rgb(36,36,36)",
                          "ticks": "outside"
                        },
                        "type": "contourcarpet"
                      }
                    ],
                    "heatmap": [
                      {
                        "colorbar": {
                          "outlinewidth": 1,
                          "tickcolor": "rgb(36,36,36)",
                          "ticks": "outside"
                        },
                        "colorscale": [
                          [
                            0,
                            "#440154"
                          ],
                          [
                            0.1111111111111111,
                            "#482878"
                          ],
                          [
                            0.2222222222222222,
                            "#3e4989"
                          ],
                          [
                            0.3333333333333333,
                            "#31688e"
                          ],
                          [
                            0.4444444444444444,
                            "#26828e"
                          ],
                          [
                            0.5555555555555556,
                            "#1f9e89"
                          ],
                          [
                            0.6666666666666666,
                            "#35b779"
                          ],
                          [
                            0.7777777777777778,
                            "#6ece58"
                          ],
                          [
                            0.8888888888888888,
                            "#b5de2b"
                          ],
                          [
                            1,
                            "#fde725"
                          ]
                        ],
                        "type": "heatmap"
                      }
                    ],
                    "heatmapgl": [
                      {
                        "colorbar": {
                          "outlinewidth": 1,
                          "tickcolor": "rgb(36,36,36)",
                          "ticks": "outside"
                        },
                        "colorscale": [
                          [
                            0,
                            "#440154"
                          ],
                          [
                            0.1111111111111111,
                            "#482878"
                          ],
                          [
                            0.2222222222222222,
                            "#3e4989"
                          ],
                          [
                            0.3333333333333333,
                            "#31688e"
                          ],
                          [
                            0.4444444444444444,
                            "#26828e"
                          ],
                          [
                            0.5555555555555556,
                            "#1f9e89"
                          ],
                          [
                            0.6666666666666666,
                            "#35b779"
                          ],
                          [
                            0.7777777777777778,
                            "#6ece58"
                          ],
                          [
                            0.8888888888888888,
                            "#b5de2b"
                          ],
                          [
                            1,
                            "#fde725"
                          ]
                        ],
                        "type": "heatmapgl"
                      }
                    ],
                    "histogram": [
                      {
                        "marker": {
                          "line": {
                            "color": "white",
                            "width": 0.6
                          }
                        },
                        "type": "histogram"
                      }
                    ],
                    "histogram2d": [
                      {
                        "colorbar": {
                          "outlinewidth": 1,
                          "tickcolor": "rgb(36,36,36)",
                          "ticks": "outside"
                        },
                        "colorscale": [
                          [
                            0,
                            "#440154"
                          ],
                          [
                            0.1111111111111111,
                            "#482878"
                          ],
                          [
                            0.2222222222222222,
                            "#3e4989"
                          ],
                          [
                            0.3333333333333333,
                            "#31688e"
                          ],
                          [
                            0.4444444444444444,
                            "#26828e"
                          ],
                          [
                            0.5555555555555556,
                            "#1f9e89"
                          ],
                          [
                            0.6666666666666666,
                            "#35b779"
                          ],
                          [
                            0.7777777777777778,
                            "#6ece58"
                          ],
                          [
                            0.8888888888888888,
                            "#b5de2b"
                          ],
                          [
                            1,
                            "#fde725"
                          ]
                        ],
                        "type": "histogram2d"
                      }
                    ],
                    "histogram2dcontour": [
                      {
                        "colorbar": {
                          "outlinewidth": 1,
                          "tickcolor": "rgb(36,36,36)",
                          "ticks": "outside"
                        },
                        "colorscale": [
                          [
                            0,
                            "#440154"
                          ],
                          [
                            0.1111111111111111,
                            "#482878"
                          ],
                          [
                            0.2222222222222222,
                            "#3e4989"
                          ],
                          [
                            0.3333333333333333,
                            "#31688e"
                          ],
                          [
                            0.4444444444444444,
                            "#26828e"
                          ],
                          [
                            0.5555555555555556,
                            "#1f9e89"
                          ],
                          [
                            0.6666666666666666,
                            "#35b779"
                          ],
                          [
                            0.7777777777777778,
                            "#6ece58"
                          ],
                          [
                            0.8888888888888888,
                            "#b5de2b"
                          ],
                          [
                            1,
                            "#fde725"
                          ]
                        ],
                        "type": "histogram2dcontour"
                      }
                    ],
                    "mesh3d": [
                      {
                        "colorbar": {
                          "outlinewidth": 1,
                          "tickcolor": "rgb(36,36,36)",
                          "ticks": "outside"
                        },
                        "type": "mesh3d"
                      }
                    ],
                    "parcoords": [
                      {
                        "line": {
                          "colorbar": {
                            "outlinewidth": 1,
                            "tickcolor": "rgb(36,36,36)",
                            "ticks": "outside"
                          }
                        },
                        "type": "parcoords"
                      }
                    ],
                    "pie": [
                      {
                        "automargin": true,
                        "type": "pie"
                      }
                    ],
                    "scatter": [
                      {
                        "fillpattern": {
                          "fillmode": "overlay",
                          "size": 10,
                          "solidity": 0.2
                        },
                        "type": "scatter"
                      }
                    ],
                    "scatter3d": [
                      {
                        "line": {
                          "colorbar": {
                            "outlinewidth": 1,
                            "tickcolor": "rgb(36,36,36)",
                            "ticks": "outside"
                          }
                        },
                        "marker": {
                          "colorbar": {
                            "outlinewidth": 1,
                            "tickcolor": "rgb(36,36,36)",
                            "ticks": "outside"
                          }
                        },
                        "type": "scatter3d"
                      }
                    ],
                    "scattercarpet": [
                      {
                        "marker": {
                          "colorbar": {
                            "outlinewidth": 1,
                            "tickcolor": "rgb(36,36,36)",
                            "ticks": "outside"
                          }
                        },
                        "type": "scattercarpet"
                      }
                    ],
                    "scattergeo": [
                      {
                        "marker": {
                          "colorbar": {
                            "outlinewidth": 1,
                            "tickcolor": "rgb(36,36,36)",
                            "ticks": "outside"
                          }
                        },
                        "type": "scattergeo"
                      }
                    ],
                    "scattergl": [
                      {
                        "marker": {
                          "colorbar": {
                            "outlinewidth": 1,
                            "tickcolor": "rgb(36,36,36)",
                            "ticks": "outside"
                          }
                        },
                        "type": "scattergl"
                      }
                    ],
                    "scattermapbox": [
                      {
                        "marker": {
                          "colorbar": {
                            "outlinewidth": 1,
                            "tickcolor": "rgb(36,36,36)",
                            "ticks": "outside"
                          }
                        },
                        "type": "scattermapbox"
                      }
                    ],
                    "scatterpolar": [
                      {
                        "marker": {
                          "colorbar": {
                            "outlinewidth": 1,
                            "tickcolor": "rgb(36,36,36)",
                            "ticks": "outside"
                          }
                        },
                        "type": "scatterpolar"
                      }
                    ],
                    "scatterpolargl": [
                      {
                        "marker": {
                          "colorbar": {
                            "outlinewidth": 1,
                            "tickcolor": "rgb(36,36,36)",
                            "ticks": "outside"
                          }
                        },
                        "type": "scatterpolargl"
                      }
                    ],
                    "scatterternary": [
                      {
                        "marker": {
                          "colorbar": {
                            "outlinewidth": 1,
                            "tickcolor": "rgb(36,36,36)",
                            "ticks": "outside"
                          }
                        },
                        "type": "scatterternary"
                      }
                    ],
                    "surface": [
                      {
                        "colorbar": {
                          "outlinewidth": 1,
                          "tickcolor": "rgb(36,36,36)",
                          "ticks": "outside"
                        },
                        "colorscale": [
                          [
                            0,
                            "#440154"
                          ],
                          [
                            0.1111111111111111,
                            "#482878"
                          ],
                          [
                            0.2222222222222222,
                            "#3e4989"
                          ],
                          [
                            0.3333333333333333,
                            "#31688e"
                          ],
                          [
                            0.4444444444444444,
                            "#26828e"
                          ],
                          [
                            0.5555555555555556,
                            "#1f9e89"
                          ],
                          [
                            0.6666666666666666,
                            "#35b779"
                          ],
                          [
                            0.7777777777777778,
                            "#6ece58"
                          ],
                          [
                            0.8888888888888888,
                            "#b5de2b"
                          ],
                          [
                            1,
                            "#fde725"
                          ]
                        ],
                        "type": "surface"
                      }
                    ],
                    "table": [
                      {
                        "cells": {
                          "fill": {
                            "color": "rgb(237,237,237)"
                          },
                          "line": {
                            "color": "white"
                          }
                        },
                        "header": {
                          "fill": {
                            "color": "rgb(217,217,217)"
                          },
                          "line": {
                            "color": "white"
                          }
                        },
                        "type": "table"
                      }
                    ]
                  },
                  "layout": {
                    "annotationdefaults": {
                      "arrowhead": 0,
                      "arrowwidth": 1
                    },
                    "autotypenumbers": "strict",
                    "coloraxis": {
                      "colorbar": {
                        "outlinewidth": 1,
                        "tickcolor": "rgb(36,36,36)",
                        "ticks": "outside"
                      }
                    },
                    "colorscale": {
                      "diverging": [
                        [
                          0,
                          "rgb(103,0,31)"
                        ],
                        [
                          0.1,
                          "rgb(178,24,43)"
                        ],
                        [
                          0.2,
                          "rgb(214,96,77)"
                        ],
                        [
                          0.3,
                          "rgb(244,165,130)"
                        ],
                        [
                          0.4,
                          "rgb(253,219,199)"
                        ],
                        [
                          0.5,
                          "rgb(247,247,247)"
                        ],
                        [
                          0.6,
                          "rgb(209,229,240)"
                        ],
                        [
                          0.7,
                          "rgb(146,197,222)"
                        ],
                        [
                          0.8,
                          "rgb(67,147,195)"
                        ],
                        [
                          0.9,
                          "rgb(33,102,172)"
                        ],
                        [
                          1,
                          "rgb(5,48,97)"
                        ]
                      ],
                      "sequential": [
                        [
                          0,
                          "#440154"
                        ],
                        [
                          0.1111111111111111,
                          "#482878"
                        ],
                        [
                          0.2222222222222222,
                          "#3e4989"
                        ],
                        [
                          0.3333333333333333,
                          "#31688e"
                        ],
                        [
                          0.4444444444444444,
                          "#26828e"
                        ],
                        [
                          0.5555555555555556,
                          "#1f9e89"
                        ],
                        [
                          0.6666666666666666,
                          "#35b779"
                        ],
                        [
                          0.7777777777777778,
                          "#6ece58"
                        ],
                        [
                          0.8888888888888888,
                          "#b5de2b"
                        ],
                        [
                          1,
                          "#fde725"
                        ]
                      ],
                      "sequentialminus": [
                        [
                          0,
                          "#440154"
                        ],
                        [
                          0.1111111111111111,
                          "#482878"
                        ],
                        [
                          0.2222222222222222,
                          "#3e4989"
                        ],
                        [
                          0.3333333333333333,
                          "#31688e"
                        ],
                        [
                          0.4444444444444444,
                          "#26828e"
                        ],
                        [
                          0.5555555555555556,
                          "#1f9e89"
                        ],
                        [
                          0.6666666666666666,
                          "#35b779"
                        ],
                        [
                          0.7777777777777778,
                          "#6ece58"
                        ],
                        [
                          0.8888888888888888,
                          "#b5de2b"
                        ],
                        [
                          1,
                          "#fde725"
                        ]
                      ]
                    },
                    "colorway": [
                      "#1F77B4",
                      "#FF7F0E",
                      "#2CA02C",
                      "#D62728",
                      "#9467BD",
                      "#8C564B",
                      "#E377C2",
                      "#7F7F7F",
                      "#BCBD22",
                      "#17BECF"
                    ],
                    "font": {
                      "color": "rgb(36,36,36)"
                    },
                    "geo": {
                      "bgcolor": "white",
                      "lakecolor": "white",
                      "landcolor": "white",
                      "showlakes": true,
                      "showland": true,
                      "subunitcolor": "white"
                    },
                    "hoverlabel": {
                      "align": "left"
                    },
                    "hovermode": "closest",
                    "mapbox": {
                      "style": "light"
                    },
                    "paper_bgcolor": "white",
                    "plot_bgcolor": "white",
                    "polar": {
                      "angularaxis": {
                        "gridcolor": "rgb(232,232,232)",
                        "linecolor": "rgb(36,36,36)",
                        "showgrid": false,
                        "showline": true,
                        "ticks": "outside"
                      },
                      "bgcolor": "white",
                      "radialaxis": {
                        "gridcolor": "rgb(232,232,232)",
                        "linecolor": "rgb(36,36,36)",
                        "showgrid": false,
                        "showline": true,
                        "ticks": "outside"
                      }
                    },
                    "scene": {
                      "xaxis": {
                        "backgroundcolor": "white",
                        "gridcolor": "rgb(232,232,232)",
                        "gridwidth": 2,
                        "linecolor": "rgb(36,36,36)",
                        "showbackground": true,
                        "showgrid": false,
                        "showline": true,
                        "ticks": "outside",
                        "zeroline": false,
                        "zerolinecolor": "rgb(36,36,36)"
                      },
                      "yaxis": {
                        "backgroundcolor": "white",
                        "gridcolor": "rgb(232,232,232)",
                        "gridwidth": 2,
                        "linecolor": "rgb(36,36,36)",
                        "showbackground": true,
                        "showgrid": false,
                        "showline": true,
                        "ticks": "outside",
                        "zeroline": false,
                        "zerolinecolor": "rgb(36,36,36)"
                      },
                      "zaxis": {
                        "backgroundcolor": "white",
                        "gridcolor": "rgb(232,232,232)",
                        "gridwidth": 2,
                        "linecolor": "rgb(36,36,36)",
                        "showbackground": true,
                        "showgrid": false,
                        "showline": true,
                        "ticks": "outside",
                        "zeroline": false,
                        "zerolinecolor": "rgb(36,36,36)"
                      }
                    },
                    "shapedefaults": {
                      "fillcolor": "black",
                      "line": {
                        "width": 0
                      },
                      "opacity": 0.3
                    },
                    "ternary": {
                      "aaxis": {
                        "gridcolor": "rgb(232,232,232)",
                        "linecolor": "rgb(36,36,36)",
                        "showgrid": false,
                        "showline": true,
                        "ticks": "outside"
                      },
                      "baxis": {
                        "gridcolor": "rgb(232,232,232)",
                        "linecolor": "rgb(36,36,36)",
                        "showgrid": false,
                        "showline": true,
                        "ticks": "outside"
                      },
                      "bgcolor": "white",
                      "caxis": {
                        "gridcolor": "rgb(232,232,232)",
                        "linecolor": "rgb(36,36,36)",
                        "showgrid": false,
                        "showline": true,
                        "ticks": "outside"
                      }
                    },
                    "title": {
                      "x": 0.05
                    },
                    "xaxis": {
                      "automargin": true,
                      "gridcolor": "rgb(232,232,232)",
                      "linecolor": "rgb(36,36,36)",
                      "showgrid": false,
                      "showline": true,
                      "ticks": "outside",
                      "title": {
                        "standoff": 15
                      },
                      "zeroline": false,
                      "zerolinecolor": "rgb(36,36,36)"
                    },
                    "yaxis": {
                      "automargin": true,
                      "gridcolor": "rgb(232,232,232)",
                      "linecolor": "rgb(36,36,36)",
                      "showgrid": false,
                      "showline": true,
                      "ticks": "outside",
                      "title": {
                        "standoff": 15
                      },
                      "zeroline": false,
                      "zerolinecolor": "rgb(36,36,36)"
                    }
                  }
                },
                "title": {
                  "text": ""
                },
                "xaxis": {
                  "showgrid": false,
                  "showline": false,
                  "showticklabels": false,
                  "ticks": "",
                  "title": {
                    "text": ""
                  },
                  "zeroline": false
                },
                "yaxis": {
                  "showgrid": false,
                  "showline": false,
                  "showticklabels": false,
                  "ticks": "",
                  "title": {
                    "text": ""
                  },
                  "zeroline": false
                }
              }
            }
          },
          "metadata": {},
          "output_type": "display_data"
        }
      ],
      "source": [
        "import numpy as np\n",
        "import matplotlib.pyplot as plt\n",
        "from gtda.mapper import Projection, CubicalCover, make_mapper_pipeline\n",
        "from gtda.mapper import plot_static_mapper_graph, plot_interactive_mapper_graph\n",
        "from sklearn.cluster import DBSCAN\n",
        "from sklearn.base import TransformerMixin\n",
        "\n",
        "# Function to generate a heart shape\n",
        "def heart_shape(n_points=1000, noise=0.1):\n",
        "    t = np.linspace(0, 2 * np.pi, n_points)\n",
        "    x = 16 * np.sin(t) ** 3\n",
        "    y = 13 * np.cos(t) - 5 * np.cos(2 * t) - 2 * np.cos(3 * t) - np.cos(4 * t)\n",
        "    data = np.vstack((x, y)).T\n",
        "    data += noise * np.random.randn(*data.shape)  # Adding some noise\n",
        "    return data\n",
        "\n",
        "# Generate heart shape data\n",
        "X_heart = heart_shape(n_points=100000, noise=0.3)\n",
        "\n",
        "# Plot the heart shape with pink color\n",
        "plt.figure(figsize=(5, 5))\n",
        "plt.scatter(X_heart[:, 0], X_heart[:, 1], s=5, color='pink')\n",
        "plt.title(\"Heart_Shape\")\n",
        "plt.show()\n",
        "\n",
        "# Mapper parameters\n",
        "filter_func = Projection(columns=[0])\n",
        "cover = CubicalCover(n_intervals=15, overlap_frac=0.2)\n",
        "clusterer = DBSCAN()\n",
        "\n",
        "# Create and run the mapper pipeline\n",
        "pipe = make_mapper_pipeline(filter_func=filter_func,\n",
        "                            cover=cover,\n",
        "                            clusterer=clusterer,\n",
        "                            verbose=False)\n",
        "\n",
        "# Generate and plot Mapper graph\n",
        "fig = plot_static_mapper_graph(pipe, X_heart)\n",
        "fig.show()\n"
      ]
    },
    {
      "cell_type": "markdown",
      "metadata": {},
      "source": [
        "# Problem 3"
      ]
    },
    {
      "cell_type": "code",
      "execution_count": 2,
      "metadata": {},
      "outputs": [],
      "source": [
        "import numpy as np\n",
        "import pandas as pd\n",
        "import matplotlib.pyplot as plt\n",
        "import seaborn as sns\n",
        "from sklearn.preprocessing import MinMaxScaler\n",
        "from sklearn.cluster import DBSCAN, AgglomerativeClustering\n",
        "# filter\n",
        "from sklearn.base import TransformerMixin\n",
        "from sklearn.ensemble import IsolationForest\n",
        "from sklearn.neighbors import NearestNeighbors\n",
        "# mapper\n",
        "from gtda.mapper import Projection, CubicalCover, make_mapper_pipeline, method_to_transform, plot_static_mapper_graph"
      ]
    },
    {
      "cell_type": "code",
      "execution_count": 3,
      "metadata": {
        "id": "j74ahHGw3EFn"
      },
      "outputs": [],
      "source": [
        "# Amount log scaling\n",
        "df = pd.read_csv('creditcard.csv')\n",
        "df['Amount'] = df['Amount'].apply(lambda x: np.log1p(x))\n",
        "# choose data when Time <= 100,000\n",
        "# df = df[df['Time'] < 100000]\n",
        "del df['Time'], df['V8'], df['V13'], df['V15'], df['V20'], df['V1'], df['V2'], df['V5'], df['V6'], df['V7'], df['V21'], df['V22'], df['V23'], df['V24'], df['V25'], df['V26'], df['V27'],df['V28']\n",
        "X = df.drop('Class', axis = 1).values\n",
        "y = df['Class'].values"
      ]
    },
    {
      "cell_type": "code",
      "execution_count": 6,
      "metadata": {
        "id": "8c3ivcFi3FMB"
      },
      "outputs": [],
      "source": [
        "class FilterFunction(TransformerMixin):\n",
        "    def __init__(self, n_neighbors, n_jobs):\n",
        "        super().__init__()\n",
        "        self.isolation = IsolationForest(n_jobs = n_jobs)\n",
        "        self.knn = NearestNeighbors(n_neighbors = n_neighbors+1, n_jobs=n_jobs)\n",
        "\n",
        "    def fit(self, X, y=None):\n",
        "        self.isolation.fit(X)\n",
        "        self.knn.fit(X)\n",
        "        return self\n",
        "\n",
        "    def transform(self, X, y = None):\n",
        "        lens1 = self.isolation.decision_function(X)\n",
        "        if lens1.ndim == 1:\n",
        "            lens1 = lens1[:, None]\n",
        "        lens2 = self.knn.kneighbors(X, self.knn.n_neighbors)[0][:,1:]\n",
        "        if lens2.ndim == 1:\n",
        "            lens2 = lens2[:, None]\n",
        "        lens3 = np.linalg.norm(X, axis = 1)\n",
        "        if lens3.ndim == 1:\n",
        "            lens3 = lens3[:, None]\n",
        "        lens = np.concatenate((lens1, lens2, lens3), axis = 1)\n",
        "        return lens"
      ]
    },
    {
      "cell_type": "code",
      "execution_count": 7,
      "metadata": {
        "colab": {
          "base_uri": "https://localhost:8080/",
          "height": 652
        },
        "id": "ax3Epjqv3G3u",
        "outputId": "3930c77a-e450-4c1f-c829-f691481b0aa8"
      },
      "outputs": [
        {
          "name": "stdout",
          "output_type": "stream",
          "text": [
            "[Pipeline] ............ (step 1 of 3) Processing scaler, total=   0.0s\n",
            "[Pipeline] ....... (step 2 of 3) Processing filter_func, total=  59.4s\n",
            "[Pipeline] ............. (step 3 of 3) Processing cover, total=   5.0s\n",
            "[Pipeline] .... (step 1 of 3) Processing pullback_cover, total= 1.1min\n",
            "[Pipeline] ........ (step 2 of 3) Processing clustering, total= 1.0min\n",
            "[Pipeline] ............. (step 3 of 3) Processing nerve, total=   1.8s\n"
          ]
        },
        {
          "data": {
            "text/html": [
              "<html>\n",
              "<head><meta charset=\"utf-8\" /></head>\n",
              "<body>\n",
              "    <div>            <script src=\"https://cdnjs.cloudflare.com/ajax/libs/mathjax/2.7.5/MathJax.js?config=TeX-AMS-MML_SVG\"></script><script type=\"text/javascript\">if (window.MathJax && window.MathJax.Hub && window.MathJax.Hub.Config) {window.MathJax.Hub.Config({SVG: {font: \"STIX-Web\"}});}</script>                <script type=\"text/javascript\">window.PlotlyConfig = {MathJaxConfig: 'local'};</script>\n",
              "        <script charset=\"utf-8\" src=\"https://cdn.plot.ly/plotly-2.24.1.min.js\"></script>                <div id=\"fb3a3eab-5a41-4a56-8c01-77fa3c13031c\" class=\"plotly-graph-div\" style=\"height:525px; width:100%;\"></div>            <script type=\"text/javascript\">                                    window.PLOTLYENV=window.PLOTLYENV || {};                                    if (document.getElementById(\"fb3a3eab-5a41-4a56-8c01-77fa3c13031c\")) {                    Plotly.newPlot(                        \"fb3a3eab-5a41-4a56-8c01-77fa3c13031c\",                        [{\"hoverinfo\":\"none\",\"line\":{\"color\":\"#888\",\"width\":0.2},\"mode\":\"lines\",\"name\":\"edge_trace\",\"x\":[3.27352216030557,4.222322504176337,null,3.27352216030557,2.919161134902474,null,3.27352216030557,3.2297694734260323,null,3.27352216030557,2.50808247741608,null,3.27352216030557,2.342680993174817,null,3.27352216030557,4.323172833386801,null,3.27352216030557,2.894708578682259,null,4.222322504176337,2.919161134902474,null,4.222322504176337,3.2297694734260323,null,2.206554059975223,2.919161134902474,null,2.206554059975223,3.2297694734260323,null,2.206554059975223,2.50808247741608,null,2.206554059975223,1.3242988792714532,null,2.206554059975223,3.0910508502991094,null,2.206554059975223,0.41126732528847787,null,2.206554059975223,1.705243198231278,null,2.206554059975223,2.6200420793305423,null,2.206554059975223,0.5955207275513903,null,2.206554059975223,1.4994714173640165,null,2.206554059975223,0.8402912663606442,null,2.206554059975223,1.9912299724949727,null,2.206554059975223,2.811746466715583,null,2.206554059975223,3.209400952949079,null,2.919161134902474,3.2297694734260323,null,2.919161134902474,2.50808247741608,null,2.919161134902474,1.3242988792714532,null,2.919161134902474,3.0910508502991094,null,2.919161134902474,2.342680993174817,null,3.2297694734260323,1.3242988792714532,null,3.2297694734260323,4.323172833386801,null,2.50808247741608,3.0910508502991094,null,2.50808247741608,2.342680993174817,null,1.3242988792714532,0.41126732528847787,null,1.3242988792714532,1.705243198231278,null,1.3242988792714532,-0.24034443810871184,null,1.3242988792714532,-0.5399699048092292,null,1.3242988792714532,0.5955207275513903,null,1.3242988792714532,1.4994714173640165,null,1.3242988792714532,0.8402912663606442,null,1.3242988792714532,1.9912299724949727,null,1.3242988792714532,-0.021238908436105465,null,3.0910508502991094,1.705243198231278,null,3.0910508502991094,2.6200420793305423,null,3.0910508502991094,1.4994714173640165,null,3.0910508502991094,1.9912299724949727,null,3.0910508502991094,2.811746466715583,null,3.0910508502991094,3.209400952949079,null,3.0910508502991094,4.06396539313995,null,3.0910508502991094,4.036355911029359,null,3.0910508502991094,4.344510179170977,null,-0.3127508330160709,0.9009458658147005,null,-0.3127508330160709,0.41126732528847787,null,-0.3127508330160709,1.705243198231278,null,-0.3127508330160709,-0.24034443810871184,null,-0.3127508330160709,-0.5399699048092292,null,-0.3127508330160709,0.5955207275513903,null,-0.3127508330160709,-1.0555784067082958,null,-0.3127508330160709,-1.0752333351676475,null,-0.3127508330160709,-0.24929138269637954,null,-0.3127508330160709,0.07989744337832574,null,-0.3127508330160709,0.5189713139745005,null,-0.3127508330160709,1.1815511425834866,null,-0.3127508330160709,1.4994714173640165,null,-0.3127508330160709,-1.273411559962399,null,-0.3127508330160709,-2.4217480935706077,null,-0.3127508330160709,-2.3800611934750044,null,-0.3127508330160709,-1.0800982157884655,null,0.9009458658147005,0.41126732528847787,null,0.9009458658147005,1.705243198231278,null,0.9009458658147005,2.6200420793305423,null,0.9009458658147005,0.5955207275513903,null,0.9009458658147005,-1.0555784067082958,null,0.9009458658147005,-1.0752333351676475,null,0.9009458658147005,-0.24929138269637954,null,0.9009458658147005,0.07989744337832574,null,0.9009458658147005,1.1660295334655517,null,0.9009458658147005,0.5189713139745005,null,0.9009458658147005,1.5660680682105685,null,0.9009458658147005,1.1815511425834866,null,0.9009458658147005,1.4994714173640165,null,0.9009458658147005,2.811746466715583,null,0.9009458658147005,2.144156039583856,null,0.9009458658147005,1.9115714508101083,null,0.41126732528847787,1.705243198231278,null,0.41126732528847787,-0.24034443810871184,null,0.41126732528847787,-0.5399699048092292,null,0.41126732528847787,0.5955207275513903,null,0.41126732528847787,-0.24929138269637954,null,0.41126732528847787,1.1815511425834866,null,0.41126732528847787,1.4994714173640165,null,0.41126732528847787,0.8402912663606442,null,0.41126732528847787,1.9912299724949727,null,0.41126732528847787,-1.273411559962399,null,0.41126732528847787,-1.0800982157884655,null,0.41126732528847787,-0.021238908436105465,null,1.705243198231278,2.6200420793305423,null,1.705243198231278,0.5955207275513903,null,1.705243198231278,-0.24929138269637954,null,1.705243198231278,1.1815511425834866,null,1.705243198231278,1.4994714173640165,null,1.705243198231278,0.8402912663606442,null,1.705243198231278,1.9912299724949727,null,1.705243198231278,2.811746466715583,null,1.705243198231278,3.209400952949079,null,1.705243198231278,2.144156039583856,null,1.705243198231278,1.9115714508101083,null,2.6200420793305423,1.1815511425834866,null,2.6200420793305423,1.4994714173640165,null,2.6200420793305423,1.9912299724949727,null,2.6200420793305423,2.811746466715583,null,2.6200420793305423,3.209400952949079,null,2.6200420793305423,2.144156039583856,null,2.6200420793305423,1.9115714508101083,null,2.6200420793305423,4.06396539313995,null,2.6200420793305423,4.036355911029359,null,2.6200420793305423,4.344510179170977,null,-4.1520047333048264,-4.83226215519532,null,-0.24034443810871184,-0.5399699048092292,null,-0.24034443810871184,0.5955207275513903,null,-0.24034443810871184,-0.24929138269637954,null,-0.24034443810871184,0.8402912663606442,null,-0.24034443810871184,-1.273411559962399,null,-0.24034443810871184,-1.0800982157884655,null,-0.24034443810871184,-0.021238908436105465,null,-0.5399699048092292,0.5955207275513903,null,-0.5399699048092292,-0.24929138269637954,null,-0.5399699048092292,0.8402912663606442,null,-0.5399699048092292,-1.273411559962399,null,-0.5399699048092292,-1.0800982157884655,null,-0.5399699048092292,-0.021238908436105465,null,0.5955207275513903,-0.24929138269637954,null,0.5955207275513903,1.1815511425834866,null,0.5955207275513903,1.4994714173640165,null,0.5955207275513903,0.8402912663606442,null,0.5955207275513903,1.9912299724949727,null,0.5955207275513903,-1.273411559962399,null,0.5955207275513903,-1.0800982157884655,null,0.5955207275513903,-0.021238908436105465,null,-1.0555784067082958,-1.0752333351676475,null,-1.0555784067082958,-0.24929138269637954,null,-1.0555784067082958,0.07989744337832574,null,-1.0555784067082958,0.5189713139745005,null,-1.0555784067082958,1.1815511425834866,null,-1.0555784067082958,-1.273411559962399,null,-1.0555784067082958,-1.6254255418983423,null,-1.0555784067082958,-0.3985110445054793,null,-1.0555784067082958,-2.9881761567676826,null,-1.0555784067082958,-2.4217480935706077,null,-1.0555784067082958,-2.3800611934750044,null,-1.0555784067082958,-3.1335686931410516,null,-1.0555784067082958,-1.0800982157884655,null,-1.0555784067082958,-1.7338554790582013,null,-1.0555784067082958,-0.5600467569989342,null,-1.0752333351676475,-0.24929138269637954,null,-1.0752333351676475,0.07989744337832574,null,-1.0752333351676475,0.5189713139745005,null,-1.0752333351676475,1.1815511425834866,null,-1.0752333351676475,-1.273411559962399,null,-1.0752333351676475,-1.6254255418983423,null,-1.0752333351676475,-0.3985110445054793,null,-1.0752333351676475,-2.9881761567676826,null,-1.0752333351676475,-2.4217480935706077,null,-1.0752333351676475,-2.3800611934750044,null,-1.0752333351676475,-3.1335686931410516,null,-1.0752333351676475,-1.0800982157884655,null,-1.0752333351676475,-1.7338554790582013,null,-1.0752333351676475,-0.5600467569989342,null,-0.24929138269637954,0.07989744337832574,null,-0.24929138269637954,0.5189713139745005,null,-0.24929138269637954,1.1815511425834866,null,-0.24929138269637954,1.4994714173640165,null,-0.24929138269637954,-1.273411559962399,null,-0.24929138269637954,-2.4217480935706077,null,-0.24929138269637954,-2.3800611934750044,null,-0.24929138269637954,-1.0800982157884655,null,7.455510294389873,7.930863793141224,null,0.07989744337832574,1.1660295334655517,null,0.07989744337832574,0.5189713139745005,null,0.07989744337832574,1.5660680682105685,null,0.07989744337832574,1.1815511425834866,null,0.07989744337832574,2.144156039583856,null,0.07989744337832574,-1.6254255418983423,null,0.07989744337832574,-0.3985110445054793,null,0.07989744337832574,1.9115714508101083,null,0.07989744337832574,-1.7338554790582013,null,0.07989744337832574,0.6338547645327874,null,0.07989744337832574,-0.5600467569989342,null,1.1660295334655517,0.5189713139745005,null,1.1660295334655517,1.5660680682105685,null,1.1660295334655517,1.1815511425834866,null,1.1660295334655517,2.144156039583856,null,1.1660295334655517,-0.3985110445054793,null,1.1660295334655517,1.9115714508101083,null,1.1660295334655517,3.150279369125678,null,1.1660295334655517,1.9631586091996613,null,1.1660295334655517,2.347467804838182,null,1.1660295334655517,2.7871133356609707,null,1.1660295334655517,0.6338547645327874,null,1.1660295334655517,1.2425545050070608,null,1.1660295334655517,1.866190562906355,null,1.1660295334655517,-0.5600467569989342,null,0.5189713139745005,1.5660680682105685,null,0.5189713139745005,1.1815511425834866,null,0.5189713139745005,2.144156039583856,null,0.5189713139745005,-1.6254255418983423,null,0.5189713139745005,-0.3985110445054793,null,0.5189713139745005,1.9115714508101083,null,0.5189713139745005,1.7369018322020418,null,0.5189713139745005,2.596888844210813,null,0.5189713139745005,2.5694285425443613,null,0.5189713139745005,-1.7338554790582013,null,0.5189713139745005,0.6338547645327874,null,0.5189713139745005,-0.5600467569989342,null,0.5189713139745005,2.2682877800237313,null,1.5660680682105685,1.1815511425834866,null,1.5660680682105685,2.144156039583856,null,1.5660680682105685,-0.3985110445054793,null,1.5660680682105685,1.9115714508101083,null,1.5660680682105685,3.150279369125678,null,1.5660680682105685,3.50032472431059,null,1.5660680682105685,1.7369018322020418,null,1.5660680682105685,2.596888844210813,null,1.5660680682105685,2.5694285425443613,null,1.5660680682105685,1.9631586091996613,null,1.5660680682105685,2.347467804838182,null,1.5660680682105685,3.046219432768399,null,1.5660680682105685,2.7871133356609707,null,1.5660680682105685,0.6338547645327874,null,1.5660680682105685,1.2425545050070608,null,1.5660680682105685,1.866190562906355,null,1.5660680682105685,-0.5600467569989342,null,1.5660680682105685,2.2682877800237313,null,1.1815511425834866,1.4994714173640165,null,1.1815511425834866,2.811746466715583,null,1.1815511425834866,2.144156039583856,null,1.1815511425834866,1.9115714508101083,null,1.1815511425834866,1.7369018322020418,null,1.1815511425834866,2.596888844210813,null,1.1815511425834866,2.5694285425443613,null,1.1815511425834866,2.2682877800237313,null,1.4994714173640165,0.8402912663606442,null,1.4994714173640165,1.9912299724949727,null,1.4994714173640165,2.811746466715583,null,1.4994714173640165,3.209400952949079,null,1.4994714173640165,2.144156039583856,null,1.4994714173640165,1.9115714508101083,null,0.8402912663606442,1.9912299724949727,null,0.8402912663606442,-0.021238908436105465,null,1.9912299724949727,2.811746466715583,null,1.9912299724949727,3.209400952949079,null,-1.273411559962399,-2.4217480935706077,null,-1.273411559962399,-2.3800611934750044,null,-1.273411559962399,-1.0800982157884655,null,2.811746466715583,3.209400952949079,null,2.811746466715583,2.144156039583856,null,2.811746466715583,1.9115714508101083,null,2.811746466715583,4.06396539313995,null,2.811746466715583,4.036355911029359,null,2.811746466715583,4.344510179170977,null,3.209400952949079,4.06396539313995,null,3.209400952949079,4.036355911029359,null,3.209400952949079,4.344510179170977,null,2.144156039583856,1.9115714508101083,null,2.144156039583856,3.150279369125678,null,2.144156039583856,3.50032472431059,null,2.144156039583856,1.7369018322020418,null,2.144156039583856,2.596888844210813,null,2.144156039583856,2.5694285425443613,null,2.144156039583856,2.347467804838182,null,2.144156039583856,3.046219432768399,null,2.144156039583856,2.7871133356609707,null,2.144156039583856,1.866190562906355,null,2.144156039583856,2.2682877800237313,null,-4.571425160258918,-3.8925373442526734,null,-4.571425160258918,-2.9881761567676826,null,-4.571425160258918,-2.4217480935706077,null,-4.571425160258918,-2.3800611934750044,null,-4.571425160258918,-4.366719160525393,null,-4.571425160258918,-3.1335686931410516,null,-4.571425160258918,-5.875701437719579,null,-4.571425160258918,-5.889743705244764,null,-4.571425160258918,-3.857505193522769,null,-4.571425160258918,-6.382811772317451,null,-4.571425160258918,-5.906457631474096,null,-3.8925373442526734,-2.9881761567676826,null,-3.8925373442526734,-2.4217480935706077,null,-3.8925373442526734,-2.3800611934750044,null,-3.8925373442526734,-4.366719160525393,null,-3.8925373442526734,-3.1335686931410516,null,-3.8925373442526734,-3.857505193522769,null,-1.6254255418983423,-0.3985110445054793,null,-1.6254255418983423,-2.9881761567676826,null,-1.6254255418983423,-2.4217480935706077,null,-1.6254255418983423,-2.3800611934750044,null,-1.6254255418983423,-3.1335686931410516,null,-1.6254255418983423,-1.7338554790582013,null,-1.6254255418983423,-0.5600467569989342,null,-0.3985110445054793,-1.7338554790582013,null,-0.3985110445054793,0.6338547645327874,null,-0.3985110445054793,-0.5600467569989342,null,-2.9881761567676826,-2.4217480935706077,null,-2.9881761567676826,-2.3800611934750044,null,-2.9881761567676826,-4.366719160525393,null,-2.9881761567676826,-3.1335686931410516,null,-2.9881761567676826,-3.857505193522769,null,-2.9881761567676826,-1.7338554790582013,null,-2.4217480935706077,-2.3800611934750044,null,-2.4217480935706077,-4.366719160525393,null,-2.4217480935706077,-3.1335686931410516,null,-2.4217480935706077,-1.0800982157884655,null,-2.4217480935706077,-3.857505193522769,null,-2.4217480935706077,-1.7338554790582013,null,-2.3800611934750044,-4.366719160525393,null,-2.3800611934750044,-3.1335686931410516,null,-2.3800611934750044,-1.0800982157884655,null,-2.3800611934750044,-3.857505193522769,null,-2.3800611934750044,-1.7338554790582013,null,1.9115714508101083,3.150279369125678,null,1.9115714508101083,2.347467804838182,null,1.9115714508101083,2.7871133356609707,null,1.9115714508101083,1.866190562906355,null,-4.366719160525393,-3.1335686931410516,null,-4.366719160525393,-5.875701437719579,null,-4.366719160525393,-5.889743705244764,null,-4.366719160525393,-3.857505193522769,null,-3.1335686931410516,-3.857505193522769,null,-3.1335686931410516,-1.7338554790582013,null,-3.1335686931410516,-4.6982466476433515,null,3.150279369125678,3.50032472431059,null,3.150279369125678,4.06396539313995,null,3.150279369125678,2.5694285425443613,null,3.150279369125678,2.347467804838182,null,3.150279369125678,3.046219432768399,null,3.150279369125678,2.7871133356609707,null,3.150279369125678,1.866190562906355,null,3.150279369125678,2.2682877800237313,null,3.50032472431059,2.5694285425443613,null,3.50032472431059,2.347467804838182,null,3.50032472431059,3.046219432768399,null,3.50032472431059,2.2682877800237313,null,1.7369018322020418,2.596888844210813,null,1.7369018322020418,2.5694285425443613,null,1.7369018322020418,2.2682877800237313,null,2.596888844210813,2.5694285425443613,null,2.596888844210813,2.2682877800237313,null,-5.875701437719579,-5.889743705244764,null,-5.875701437719579,-6.382811772317451,null,-5.875701437719579,-5.906457631474096,null,4.06396539313995,4.036355911029359,null,4.06396539313995,4.344510179170977,null,2.5694285425443613,2.347467804838182,null,2.5694285425443613,3.046219432768399,null,2.5694285425443613,2.2682877800237313,null,1.9631586091996613,3.1594914447206497,null,1.9631586091996613,2.347467804838182,null,1.9631586091996613,3.046219432768399,null,1.9631586091996613,0.6338547645327874,null,1.9631586091996613,1.2425545050070608,null,1.9631586091996613,1.866190562906355,null,3.1594914447206497,2.347467804838182,null,3.1594914447206497,3.046219432768399,null,2.347467804838182,3.046219432768399,null,2.347467804838182,2.7871133356609707,null,2.347467804838182,0.6338547645327874,null,2.347467804838182,1.2425545050070608,null,2.347467804838182,1.866190562906355,null,2.347467804838182,2.2682877800237313,null,3.046219432768399,2.2682877800237313,null,-6.382811772317451,-5.906457631474096,null,-1.7338554790582013,-0.5600467569989342,null,2.7871133356609707,1.866190562906355,null,-1.6885005037042926,-2.4731493941589964,null,8.772895269371809,8.739728897416835,null,8.72257763027932,8.385719690746432,null,0.905892986163551,0.051332833691179934,null,0.6338547645327874,1.2425545050070608,null,0.6338547645327874,1.866190562906355,null,0.6338547645327874,-0.5600467569989342,null,1.2425545050070608,1.866190562906355,null,2.7737702442358,3.6184574609176883,null,4.036355911029359,4.344510179170977,null,9.198632044068788,9.176828666376291,null,-4.6982466476433515,-5.322218510862508,null],\"y\":[7.1272594402024465,6.550499578361263,null,7.1272594402024465,5.520484343320589,null,7.1272594402024465,5.936593147952699,null,7.1272594402024465,5.814750683005578,null,7.1272594402024465,7.144346539571731,null,7.1272594402024465,7.421607063201289,null,7.1272594402024465,8.588086587030606,null,6.550499578361263,5.520484343320589,null,6.550499578361263,5.936593147952699,null,3.878606620871411,5.520484343320589,null,3.878606620871411,5.936593147952699,null,3.878606620871411,5.814750683005578,null,3.878606620871411,4.202390568392547,null,3.878606620871411,3.5433160408165825,null,3.878606620871411,2.8990053271840526,null,3.878606620871411,2.2206935897044313,null,3.878606620871411,2.0929681524650205,null,3.878606620871411,2.746858727113861,null,3.878606620871411,2.314665573025667,null,3.878606620871411,3.791585172458098,null,3.878606620871411,3.250988942276755,null,3.878606620871411,1.9106000276323618,null,3.878606620871411,2.882804493813825,null,5.520484343320589,5.936593147952699,null,5.520484343320589,5.814750683005578,null,5.520484343320589,4.202390568392547,null,5.520484343320589,3.5433160408165825,null,5.520484343320589,7.144346539571731,null,5.936593147952699,4.202390568392547,null,5.936593147952699,7.421607063201289,null,5.814750683005578,3.5433160408165825,null,5.814750683005578,7.144346539571731,null,4.202390568392547,2.8990053271840526,null,4.202390568392547,2.2206935897044313,null,4.202390568392547,3.3497722221902353,null,4.202390568392547,3.4779194923839043,null,4.202390568392547,2.746858727113861,null,4.202390568392547,2.314665573025667,null,4.202390568392547,3.791585172458098,null,4.202390568392547,3.250988942276755,null,4.202390568392547,4.489988252110361,null,3.5433160408165825,2.2206935897044313,null,3.5433160408165825,2.0929681524650205,null,3.5433160408165825,2.314665573025667,null,3.5433160408165825,3.250988942276755,null,3.5433160408165825,1.9106000276323618,null,3.5433160408165825,2.882804493813825,null,3.5433160408165825,1.784330972561047,null,3.5433160408165825,2.7877555835136163,null,3.5433160408165825,3.0069952607097536,null,1.7739261179379073,1.0252977205606957,null,1.7739261179379073,2.8990053271840526,null,1.7739261179379073,2.2206935897044313,null,1.7739261179379073,3.3497722221902353,null,1.7739261179379073,3.4779194923839043,null,1.7739261179379073,2.746858727113861,null,1.7739261179379073,0.5095611993519953,null,1.7739261179379073,0.7434512511115617,null,1.7739261179379073,1.5564844046398656,null,1.7739261179379073,-0.11601687571980064,null,1.7739261179379073,-0.23424466477415373,null,1.7739261179379073,0.7100003568750946,null,1.7739261179379073,2.314665573025667,null,1.7739261179379073,2.367729690661683,null,1.7739261179379073,1.2377797400053958,null,1.7739261179379073,0.9558639083566641,null,1.7739261179379073,2.12581635717634,null,1.0252977205606957,2.8990053271840526,null,1.0252977205606957,2.2206935897044313,null,1.0252977205606957,2.0929681524650205,null,1.0252977205606957,2.746858727113861,null,1.0252977205606957,0.5095611993519953,null,1.0252977205606957,0.7434512511115617,null,1.0252977205606957,1.5564844046398656,null,1.0252977205606957,-0.11601687571980064,null,1.0252977205606957,-1.198200973964799,null,1.0252977205606957,-0.23424466477415373,null,1.0252977205606957,-1.1957254404328321,null,1.0252977205606957,0.7100003568750946,null,1.0252977205606957,2.314665573025667,null,1.0252977205606957,1.9106000276323618,null,1.0252977205606957,-0.10580755824285613,null,1.0252977205606957,0.19671732817850382,null,2.8990053271840526,2.2206935897044313,null,2.8990053271840526,3.3497722221902353,null,2.8990053271840526,3.4779194923839043,null,2.8990053271840526,2.746858727113861,null,2.8990053271840526,1.5564844046398656,null,2.8990053271840526,0.7100003568750946,null,2.8990053271840526,2.314665573025667,null,2.8990053271840526,3.791585172458098,null,2.8990053271840526,3.250988942276755,null,2.8990053271840526,2.367729690661683,null,2.8990053271840526,2.12581635717634,null,2.8990053271840526,4.489988252110361,null,2.2206935897044313,2.0929681524650205,null,2.2206935897044313,2.746858727113861,null,2.2206935897044313,1.5564844046398656,null,2.2206935897044313,0.7100003568750946,null,2.2206935897044313,2.314665573025667,null,2.2206935897044313,3.791585172458098,null,2.2206935897044313,3.250988942276755,null,2.2206935897044313,1.9106000276323618,null,2.2206935897044313,2.882804493813825,null,2.2206935897044313,-0.10580755824285613,null,2.2206935897044313,0.19671732817850382,null,2.0929681524650205,0.7100003568750946,null,2.0929681524650205,2.314665573025667,null,2.0929681524650205,3.250988942276755,null,2.0929681524650205,1.9106000276323618,null,2.0929681524650205,2.882804493813825,null,2.0929681524650205,-0.10580755824285613,null,2.0929681524650205,0.19671732817850382,null,2.0929681524650205,1.784330972561047,null,2.0929681524650205,2.7877555835136163,null,2.0929681524650205,3.0069952607097536,null,-5.657056340259013,-5.058732219655737,null,3.3497722221902353,3.4779194923839043,null,3.3497722221902353,2.746858727113861,null,3.3497722221902353,1.5564844046398656,null,3.3497722221902353,3.791585172458098,null,3.3497722221902353,2.367729690661683,null,3.3497722221902353,2.12581635717634,null,3.3497722221902353,4.489988252110361,null,3.4779194923839043,2.746858727113861,null,3.4779194923839043,1.5564844046398656,null,3.4779194923839043,3.791585172458098,null,3.4779194923839043,2.367729690661683,null,3.4779194923839043,2.12581635717634,null,3.4779194923839043,4.489988252110361,null,2.746858727113861,1.5564844046398656,null,2.746858727113861,0.7100003568750946,null,2.746858727113861,2.314665573025667,null,2.746858727113861,3.791585172458098,null,2.746858727113861,3.250988942276755,null,2.746858727113861,2.367729690661683,null,2.746858727113861,2.12581635717634,null,2.746858727113861,4.489988252110361,null,0.5095611993519953,0.7434512511115617,null,0.5095611993519953,1.5564844046398656,null,0.5095611993519953,-0.11601687571980064,null,0.5095611993519953,-0.23424466477415373,null,0.5095611993519953,0.7100003568750946,null,0.5095611993519953,2.367729690661683,null,0.5095611993519953,-0.01222940776870665,null,0.5095611993519953,-0.8422955056456871,null,0.5095611993519953,0.3025446189782045,null,0.5095611993519953,1.2377797400053958,null,0.5095611993519953,0.9558639083566641,null,0.5095611993519953,1.0146601282343264,null,0.5095611993519953,2.12581635717634,null,0.5095611993519953,-0.31332028559542624,null,0.5095611993519953,-1.124210767545147,null,0.7434512511115617,1.5564844046398656,null,0.7434512511115617,-0.11601687571980064,null,0.7434512511115617,-0.23424466477415373,null,0.7434512511115617,0.7100003568750946,null,0.7434512511115617,2.367729690661683,null,0.7434512511115617,-0.01222940776870665,null,0.7434512511115617,-0.8422955056456871,null,0.7434512511115617,0.3025446189782045,null,0.7434512511115617,1.2377797400053958,null,0.7434512511115617,0.9558639083566641,null,0.7434512511115617,1.0146601282343264,null,0.7434512511115617,2.12581635717634,null,0.7434512511115617,-0.31332028559542624,null,0.7434512511115617,-1.124210767545147,null,1.5564844046398656,-0.11601687571980064,null,1.5564844046398656,-0.23424466477415373,null,1.5564844046398656,0.7100003568750946,null,1.5564844046398656,2.314665573025667,null,1.5564844046398656,2.367729690661683,null,1.5564844046398656,1.2377797400053958,null,1.5564844046398656,0.9558639083566641,null,1.5564844046398656,2.12581635717634,null,-4.770955617580361,-4.068572177823182,null,-0.11601687571980064,-1.198200973964799,null,-0.11601687571980064,-0.23424466477415373,null,-0.11601687571980064,-1.1957254404328321,null,-0.11601687571980064,0.7100003568750946,null,-0.11601687571980064,-0.10580755824285613,null,-0.11601687571980064,-0.01222940776870665,null,-0.11601687571980064,-0.8422955056456871,null,-0.11601687571980064,0.19671732817850382,null,-0.11601687571980064,-0.31332028559542624,null,-0.11601687571980064,-2.0145573842260345,null,-0.11601687571980064,-1.124210767545147,null,-1.198200973964799,-0.23424466477415373,null,-1.198200973964799,-1.1957254404328321,null,-1.198200973964799,0.7100003568750946,null,-1.198200973964799,-0.10580755824285613,null,-1.198200973964799,-0.8422955056456871,null,-1.198200973964799,0.19671732817850382,null,-1.198200973964799,-0.8350932928208463,null,-1.198200973964799,-3.0091955852255126,null,-1.198200973964799,-2.0482423644692287,null,-1.198200973964799,-1.5527952236802702,null,-1.198200973964799,-2.0145573842260345,null,-1.198200973964799,-2.9849554807249,null,-1.198200973964799,-1.961473515333186,null,-1.198200973964799,-1.124210767545147,null,-0.23424466477415373,-1.1957254404328321,null,-0.23424466477415373,0.7100003568750946,null,-0.23424466477415373,-0.10580755824285613,null,-0.23424466477415373,-0.01222940776870665,null,-0.23424466477415373,-0.8422955056456871,null,-0.23424466477415373,0.19671732817850382,null,-0.23424466477415373,-0.607678740229275,null,-0.23424466477415373,-0.26301448427536456,null,-0.23424466477415373,-0.9200236875128271,null,-0.23424466477415373,-0.31332028559542624,null,-0.23424466477415373,-2.0145573842260345,null,-0.23424466477415373,-1.124210767545147,null,-0.23424466477415373,-1.1630376622096819,null,-1.1957254404328321,0.7100003568750946,null,-1.1957254404328321,-0.10580755824285613,null,-1.1957254404328321,-0.8422955056456871,null,-1.1957254404328321,0.19671732817850382,null,-1.1957254404328321,-0.8350932928208463,null,-1.1957254404328321,-1.6286058619729382,null,-1.1957254404328321,-0.607678740229275,null,-1.1957254404328321,-0.26301448427536456,null,-1.1957254404328321,-0.9200236875128271,null,-1.1957254404328321,-3.0091955852255126,null,-1.1957254404328321,-2.0482423644692287,null,-1.1957254404328321,-2.256817903681473,null,-1.1957254404328321,-1.5527952236802702,null,-1.1957254404328321,-2.0145573842260345,null,-1.1957254404328321,-2.9849554807249,null,-1.1957254404328321,-1.961473515333186,null,-1.1957254404328321,-1.124210767545147,null,-1.1957254404328321,-1.1630376622096819,null,0.7100003568750946,2.314665573025667,null,0.7100003568750946,1.9106000276323618,null,0.7100003568750946,-0.10580755824285613,null,0.7100003568750946,0.19671732817850382,null,0.7100003568750946,-0.607678740229275,null,0.7100003568750946,-0.26301448427536456,null,0.7100003568750946,-0.9200236875128271,null,0.7100003568750946,-1.1630376622096819,null,2.314665573025667,3.791585172458098,null,2.314665573025667,3.250988942276755,null,2.314665573025667,1.9106000276323618,null,2.314665573025667,2.882804493813825,null,2.314665573025667,-0.10580755824285613,null,2.314665573025667,0.19671732817850382,null,3.791585172458098,3.250988942276755,null,3.791585172458098,4.489988252110361,null,3.250988942276755,1.9106000276323618,null,3.250988942276755,2.882804493813825,null,2.367729690661683,1.2377797400053958,null,2.367729690661683,0.9558639083566641,null,2.367729690661683,2.12581635717634,null,1.9106000276323618,2.882804493813825,null,1.9106000276323618,-0.10580755824285613,null,1.9106000276323618,0.19671732817850382,null,1.9106000276323618,1.784330972561047,null,1.9106000276323618,2.7877555835136163,null,1.9106000276323618,3.0069952607097536,null,2.882804493813825,1.784330972561047,null,2.882804493813825,2.7877555835136163,null,2.882804493813825,3.0069952607097536,null,-0.10580755824285613,0.19671732817850382,null,-0.10580755824285613,-0.8350932928208463,null,-0.10580755824285613,-1.6286058619729382,null,-0.10580755824285613,-0.607678740229275,null,-0.10580755824285613,-0.26301448427536456,null,-0.10580755824285613,-0.9200236875128271,null,-0.10580755824285613,-2.0482423644692287,null,-0.10580755824285613,-2.256817903681473,null,-0.10580755824285613,-1.5527952236802702,null,-0.10580755824285613,-1.961473515333186,null,-0.10580755824285613,-1.1630376622096819,null,0.3859317757520008,1.3462892086617455,null,0.3859317757520008,0.3025446189782045,null,0.3859317757520008,1.2377797400053958,null,0.3859317757520008,0.9558639083566641,null,0.3859317757520008,0.9854484691470539,null,0.3859317757520008,1.0146601282343264,null,0.3859317757520008,0.29019405360705286,null,0.3859317757520008,1.2020765363220633,null,0.3859317757520008,0.48637603076611885,null,0.3859317757520008,-0.316656578803172,null,0.3859317757520008,-0.8691513605917311,null,1.3462892086617455,0.3025446189782045,null,1.3462892086617455,1.2377797400053958,null,1.3462892086617455,0.9558639083566641,null,1.3462892086617455,0.9854484691470539,null,1.3462892086617455,1.0146601282343264,null,1.3462892086617455,0.48637603076611885,null,-0.01222940776870665,-0.8422955056456871,null,-0.01222940776870665,0.3025446189782045,null,-0.01222940776870665,1.2377797400053958,null,-0.01222940776870665,0.9558639083566641,null,-0.01222940776870665,1.0146601282343264,null,-0.01222940776870665,-0.31332028559542624,null,-0.01222940776870665,-1.124210767545147,null,-0.8422955056456871,-0.31332028559542624,null,-0.8422955056456871,-2.0145573842260345,null,-0.8422955056456871,-1.124210767545147,null,0.3025446189782045,1.2377797400053958,null,0.3025446189782045,0.9558639083566641,null,0.3025446189782045,0.9854484691470539,null,0.3025446189782045,1.0146601282343264,null,0.3025446189782045,0.48637603076611885,null,0.3025446189782045,-0.31332028559542624,null,1.2377797400053958,0.9558639083566641,null,1.2377797400053958,0.9854484691470539,null,1.2377797400053958,1.0146601282343264,null,1.2377797400053958,2.12581635717634,null,1.2377797400053958,0.48637603076611885,null,1.2377797400053958,-0.31332028559542624,null,0.9558639083566641,0.9854484691470539,null,0.9558639083566641,1.0146601282343264,null,0.9558639083566641,2.12581635717634,null,0.9558639083566641,0.48637603076611885,null,0.9558639083566641,-0.31332028559542624,null,0.19671732817850382,-0.8350932928208463,null,0.19671732817850382,-2.0482423644692287,null,0.19671732817850382,-1.5527952236802702,null,0.19671732817850382,-1.961473515333186,null,0.9854484691470539,1.0146601282343264,null,0.9854484691470539,0.29019405360705286,null,0.9854484691470539,1.2020765363220633,null,0.9854484691470539,0.48637603076611885,null,1.0146601282343264,0.48637603076611885,null,1.0146601282343264,-0.31332028559542624,null,1.0146601282343264,3.2103935251754203,null,-0.8350932928208463,-1.6286058619729382,null,-0.8350932928208463,1.784330972561047,null,-0.8350932928208463,-0.9200236875128271,null,-0.8350932928208463,-2.0482423644692287,null,-0.8350932928208463,-2.256817903681473,null,-0.8350932928208463,-1.5527952236802702,null,-0.8350932928208463,-1.961473515333186,null,-0.8350932928208463,-1.1630376622096819,null,-1.6286058619729382,-0.9200236875128271,null,-1.6286058619729382,-2.0482423644692287,null,-1.6286058619729382,-2.256817903681473,null,-1.6286058619729382,-1.1630376622096819,null,-0.607678740229275,-0.26301448427536456,null,-0.607678740229275,-0.9200236875128271,null,-0.607678740229275,-1.1630376622096819,null,-0.26301448427536456,-0.9200236875128271,null,-0.26301448427536456,-1.1630376622096819,null,0.29019405360705286,1.2020765363220633,null,0.29019405360705286,-0.316656578803172,null,0.29019405360705286,-0.8691513605917311,null,1.784330972561047,2.7877555835136163,null,1.784330972561047,3.0069952607097536,null,-0.9200236875128271,-2.0482423644692287,null,-0.9200236875128271,-2.256817903681473,null,-0.9200236875128271,-1.1630376622096819,null,-3.0091955852255126,-3.826053238979565,null,-3.0091955852255126,-2.0482423644692287,null,-3.0091955852255126,-2.256817903681473,null,-3.0091955852255126,-2.0145573842260345,null,-3.0091955852255126,-2.9849554807249,null,-3.0091955852255126,-1.961473515333186,null,-3.826053238979565,-2.0482423644692287,null,-3.826053238979565,-2.256817903681473,null,-2.0482423644692287,-2.256817903681473,null,-2.0482423644692287,-1.5527952236802702,null,-2.0482423644692287,-2.0145573842260345,null,-2.0482423644692287,-2.9849554807249,null,-2.0482423644692287,-1.961473515333186,null,-2.0482423644692287,-1.1630376622096819,null,-2.256817903681473,-1.1630376622096819,null,-0.316656578803172,-0.8691513605917311,null,-0.31332028559542624,-1.124210767545147,null,-1.5527952236802702,-1.961473515333186,null,-7.115315708531961,-6.757316601764341,null,-1.864397450529935,-2.685166931188609,null,3.6336359102152516,4.464051427370059,null,-7.710846826116362,-7.607244283510984,null,-2.0145573842260345,-2.9849554807249,null,-2.0145573842260345,-1.961473515333186,null,-2.0145573842260345,-1.124210767545147,null,-2.9849554807249,-1.961473515333186,null,-7.614201077878949,-7.414523114185277,null,2.7877555835136163,3.0069952607097536,null,0.9516773267503845,1.8100272313436199,null,3.2103935251754203,4.679692475157773,null],\"type\":\"scatter\",\"uid\":\"6fcab5ed-6216-409a-86af-8ec194da4a75\"},{\"hoverinfo\":\"text\",\"hovertext\":[\"Node ID: 0\\u003cbr\\u003ePullback set label: 70\\u003cbr\\u003ePartial cluster label: -1\\u003cbr\\u003eNode size: 183754\\u003cbr\\u003eSummary statistic: 0.000136\",\"Node ID: 1\\u003cbr\\u003ePullback set label: 69\\u003cbr\\u003ePartial cluster label: -1\\u003cbr\\u003eNode size: 117201\\u003cbr\\u003eSummary statistic: 9.39e-05\",\"Node ID: 2\\u003cbr\\u003ePullback set label: 60\\u003cbr\\u003ePartial cluster label: -1\\u003cbr\\u003eNode size: 33085\\u003cbr\\u003eSummary statistic: 0.000846\",\"Node ID: 3\\u003cbr\\u003ePullback set label: 67\\u003cbr\\u003ePartial cluster label: -1\\u003cbr\\u003eNode size: 113261\\u003cbr\\u003eSummary statistic: 0.000327\",\"Node ID: 4\\u003cbr\\u003ePullback set label: 66\\u003cbr\\u003ePartial cluster label: -1\\u003cbr\\u003eNode size: 66825\\u003cbr\\u003eSummary statistic: 0.000239\",\"Node ID: 5\\u003cbr\\u003ePullback set label: 68\\u003cbr\\u003ePartial cluster label: -1\\u003cbr\\u003eNode size: 3491\\u003cbr\\u003eSummary statistic: 0.00115\",\"Node ID: 6\\u003cbr\\u003ePullback set label: 59\\u003cbr\\u003ePartial cluster label: -1\\u003cbr\\u003eNode size: 19364\\u003cbr\\u003eSummary statistic: 0.000723\",\"Node ID: 7\\u003cbr\\u003ePullback set label: 61\\u003cbr\\u003ePartial cluster label: -1\\u003cbr\\u003eNode size: 2619\\u003cbr\\u003eSummary statistic: 0.00153\",\"Node ID: 8\\u003cbr\\u003ePullback set label: 36\\u003cbr\\u003ePartial cluster label: -1\\u003cbr\\u003eNode size: 509\\u003cbr\\u003eSummary statistic: 0.0864\",\"Node ID: 9\\u003cbr\\u003ePullback set label: 37\\u003cbr\\u003ePartial cluster label: -1\\u003cbr\\u003eNode size: 1473\\u003cbr\\u003eSummary statistic: 0.00611\",\"Node ID: 10\\u003cbr\\u003ePullback set label: 49\\u003cbr\\u003ePartial cluster label: -1\\u003cbr\\u003eNode size: 3771\\u003cbr\\u003eSummary statistic: 0.00583\",\"Node ID: 11\\u003cbr\\u003ePullback set label: 50\\u003cbr\\u003ePartial cluster label: -1\\u003cbr\\u003eNode size: 7795\\u003cbr\\u003eSummary statistic: 0.00359\",\"Node ID: 12\\u003cbr\\u003ePullback set label: 51\\u003cbr\\u003ePartial cluster label: -1\\u003cbr\\u003eNode size: 1051\\u003cbr\\u003eSummary statistic: 0.00285\",\"Node ID: 13\\u003cbr\\u003ePullback set label: 69\\u003cbr\\u003ePartial cluster label: 0\\u003cbr\\u003eNode size: 514\\u003cbr\\u003eSummary statistic: 0\",\"Node ID: 14\\u003cbr\\u003ePullback set label: 70\\u003cbr\\u003ePartial cluster label: 0\\u003cbr\\u003eNode size: 514\\u003cbr\\u003eSummary statistic: 0\",\"Node ID: 15\\u003cbr\\u003ePullback set label: 71\\u003cbr\\u003ePartial cluster label: -1\\u003cbr\\u003eNode size: 1134\\u003cbr\\u003eSummary statistic: 0.000882\",\"Node ID: 16\\u003cbr\\u003ePullback set label: 48\\u003cbr\\u003ePartial cluster label: -1\\u003cbr\\u003eNode size: 15\\u003cbr\\u003eSummary statistic: 0.267\",\"Node ID: 17\\u003cbr\\u003ePullback set label: 53\\u003cbr\\u003ePartial cluster label: -1\\u003cbr\\u003eNode size: 8\\u003cbr\\u003eSummary statistic: 0.25\",\"Node ID: 18\\u003cbr\\u003ePullback set label: 54\\u003cbr\\u003ePartial cluster label: -1\\u003cbr\\u003eNode size: 49\\u003cbr\\u003eSummary statistic: 0.0612\",\"Node ID: 19\\u003cbr\\u003ePullback set label: 22\\u003cbr\\u003ePartial cluster label: -1\\u003cbr\\u003eNode size: 173\\u003cbr\\u003eSummary statistic: 0.601\",\"Node ID: 20\\u003cbr\\u003ePullback set label: 28\\u003cbr\\u003ePartial cluster label: -1\\u003cbr\\u003eNode size: 59\\u003cbr\\u003eSummary statistic: 0.797\",\"Node ID: 21\\u003cbr\\u003ePullback set label: 41\\u003cbr\\u003ePartial cluster label: -1\\u003cbr\\u003eNode size: 62\\u003cbr\\u003eSummary statistic: 0.387\",\"Node ID: 22\\u003cbr\\u003ePullback set label: 69\\u003cbr\\u003ePartial cluster label: 1\\u003cbr\\u003eNode size: 186\\u003cbr\\u003eSummary statistic: 0\",\"Node ID: 23\\u003cbr\\u003ePullback set label: 70\\u003cbr\\u003ePartial cluster label: 1\\u003cbr\\u003eNode size: 186\\u003cbr\\u003eSummary statistic: 0\",\"Node ID: 24\\u003cbr\\u003ePullback set label: 23\\u003cbr\\u003ePartial cluster label: -1\\u003cbr\\u003eNode size: 298\\u003cbr\\u003eSummary statistic: 0.0638\",\"Node ID: 25\\u003cbr\\u003ePullback set label: 24\\u003cbr\\u003ePartial cluster label: -1\\u003cbr\\u003eNode size: 91\\u003cbr\\u003eSummary statistic: 0\",\"Node ID: 26\\u003cbr\\u003ePullback set label: 29\\u003cbr\\u003ePartial cluster label: -1\\u003cbr\\u003eNode size: 50\\u003cbr\\u003eSummary statistic: 0.2\",\"Node ID: 27\\u003cbr\\u003ePullback set label: 30\\u003cbr\\u003ePartial cluster label: -1\\u003cbr\\u003eNode size: 34\\u003cbr\\u003eSummary statistic: 0\",\"Node ID: 28\\u003cbr\\u003ePullback set label: 42\\u003cbr\\u003ePartial cluster label: -1\\u003cbr\\u003eNode size: 148\\u003cbr\\u003eSummary statistic: 0.027\",\"Node ID: 29\\u003cbr\\u003ePullback set label: 55\\u003cbr\\u003ePartial cluster label: -1\\u003cbr\\u003eNode size: 164\\u003cbr\\u003eSummary statistic: 0\",\"Node ID: 30\\u003cbr\\u003ePullback set label: 63\\u003cbr\\u003ePartial cluster label: -1\\u003cbr\\u003eNode size: 14\\u003cbr\\u003eSummary statistic: 0\",\"Node ID: 31\\u003cbr\\u003ePullback set label: 64\\u003cbr\\u003ePartial cluster label: -1\\u003cbr\\u003eNode size: 52\\u003cbr\\u003eSummary statistic: 0\",\"Node ID: 32\\u003cbr\\u003ePullback set label: 40\\u003cbr\\u003ePartial cluster label: -1\\u003cbr\\u003eNode size: 19\\u003cbr\\u003eSummary statistic: 0.632\",\"Node ID: 33\\u003cbr\\u003ePullback set label: 56\\u003cbr\\u003ePartial cluster label: -1\\u003cbr\\u003eNode size: 95\\u003cbr\\u003eSummary statistic: 0\",\"Node ID: 34\\u003cbr\\u003ePullback set label: 65\\u003cbr\\u003ePartial cluster label: -1\\u003cbr\\u003eNode size: 29\\u003cbr\\u003eSummary statistic: 0\",\"Node ID: 35\\u003cbr\\u003ePullback set label: 43\\u003cbr\\u003ePartial cluster label: -1\\u003cbr\\u003eNode size: 91\\u003cbr\\u003eSummary statistic: 0\",\"Node ID: 36\\u003cbr\\u003ePullback set label: 8\\u003cbr\\u003ePartial cluster label: -1\\u003cbr\\u003eNode size: 50\\u003cbr\\u003eSummary statistic: 0.96\",\"Node ID: 37\\u003cbr\\u003ePullback set label: 26\\u003cbr\\u003ePartial cluster label: -1\\u003cbr\\u003eNode size: 11\\u003cbr\\u003eSummary statistic: 1.0\",\"Node ID: 38\\u003cbr\\u003ePullback set label: 3\\u003cbr\\u003ePartial cluster label: -1\\u003cbr\\u003eNode size: 37\\u003cbr\\u003eSummary statistic: 0.892\",\"Node ID: 39\\u003cbr\\u003ePullback set label: 4\\u003cbr\\u003ePartial cluster label: -1\\u003cbr\\u003eNode size: 13\\u003cbr\\u003eSummary statistic: 0.538\",\"Node ID: 40\\u003cbr\\u003ePullback set label: 2\\u003cbr\\u003ePartial cluster label: -1\\u003cbr\\u003eNode size: 123\\u003cbr\\u003eSummary statistic: 0.87\",\"Node ID: 41\\u003cbr\\u003ePullback set label: 21\\u003cbr\\u003ePartial cluster label: -1\\u003cbr\\u003eNode size: 125\\u003cbr\\u003eSummary statistic: 0.92\",\"Node ID: 42\\u003cbr\\u003ePullback set label: 27\\u003cbr\\u003ePartial cluster label: -1\\u003cbr\\u003eNode size: 48\\u003cbr\\u003eSummary statistic: 0.917\",\"Node ID: 43\\u003cbr\\u003ePullback set label: 38\\u003cbr\\u003ePartial cluster label: -1\\u003cbr\\u003eNode size: 297\\u003cbr\\u003eSummary statistic: 0\",\"Node ID: 44\\u003cbr\\u003ePullback set label: 1\\u003cbr\\u003ePartial cluster label: -1\\u003cbr\\u003eNode size: 167\\u003cbr\\u003eSummary statistic: 0.766\",\"Node ID: 45\\u003cbr\\u003ePullback set label: 9\\u003cbr\\u003ePartial cluster label: -1\\u003cbr\\u003eNode size: 46\\u003cbr\\u003eSummary statistic: 1.0\",\"Node ID: 46\\u003cbr\\u003ePullback set label: 44\\u003cbr\\u003ePartial cluster label: -1\\u003cbr\\u003eNode size: 13\\u003cbr\\u003eSummary statistic: 0\",\"Node ID: 47\\u003cbr\\u003ePullback set label: 47\\u003cbr\\u003ePartial cluster label: -1\\u003cbr\\u003eNode size: 3\\u003cbr\\u003eSummary statistic: 0\",\"Node ID: 48\\u003cbr\\u003ePullback set label: 32\\u003cbr\\u003ePartial cluster label: -1\\u003cbr\\u003eNode size: 4\\u003cbr\\u003eSummary statistic: 0\",\"Node ID: 49\\u003cbr\\u003ePullback set label: 45\\u003cbr\\u003ePartial cluster label: -1\\u003cbr\\u003eNode size: 4\\u003cbr\\u003eSummary statistic: 0\",\"Node ID: 50\\u003cbr\\u003ePullback set label: 7\\u003cbr\\u003ePartial cluster label: -1\\u003cbr\\u003eNode size: 28\\u003cbr\\u003eSummary statistic: 0.929\",\"Node ID: 51\\u003cbr\\u003ePullback set label: 0\\u003cbr\\u003ePartial cluster label: -1\\u003cbr\\u003eNode size: 24\\u003cbr\\u003eSummary statistic: 0.875\",\"Node ID: 52\\u003cbr\\u003ePullback set label: 35\\u003cbr\\u003ePartial cluster label: -1\\u003cbr\\u003eNode size: 40\\u003cbr\\u003eSummary statistic: 0.7\",\"Node ID: 53\\u003cbr\\u003ePullback set label: 57\\u003cbr\\u003ePartial cluster label: -1\\u003cbr\\u003eNode size: 3\\u003cbr\\u003eSummary statistic: 0\",\"Node ID: 54\\u003cbr\\u003ePullback set label: 20\\u003cbr\\u003ePartial cluster label: -1\\u003cbr\\u003eNode size: 22\\u003cbr\\u003eSummary statistic: 1.0\",\"Node ID: 55\\u003cbr\\u003ePullback set label: 33\\u003cbr\\u003ePartial cluster label: -1\\u003cbr\\u003eNode size: 4\\u003cbr\\u003eSummary statistic: 0\",\"Node ID: 56\\u003cbr\\u003ePullback set label: 12\\u003cbr\\u003ePartial cluster label: -1\\u003cbr\\u003eNode size: 2\\u003cbr\\u003eSummary statistic: 0\",\"Node ID: 57\\u003cbr\\u003ePullback set label: 17\\u003cbr\\u003ePartial cluster label: -1\\u003cbr\\u003eNode size: 1\\u003cbr\\u003eSummary statistic: 0\",\"Node ID: 58\\u003cbr\\u003ePullback set label: 31\\u003cbr\\u003ePartial cluster label: -1\\u003cbr\\u003eNode size: 12\\u003cbr\\u003eSummary statistic: 0\",\"Node ID: 59\\u003cbr\\u003ePullback set label: 34\\u003cbr\\u003ePartial cluster label: -1\\u003cbr\\u003eNode size: 3\\u003cbr\\u003eSummary statistic: 0\",\"Node ID: 60\\u003cbr\\u003ePullback set label: 13\\u003cbr\\u003ePartial cluster label: -1\\u003cbr\\u003eNode size: 3\\u003cbr\\u003eSummary statistic: 1.0\",\"Node ID: 61\\u003cbr\\u003ePullback set label: 14\\u003cbr\\u003ePartial cluster label: -1\\u003cbr\\u003eNode size: 2\\u003cbr\\u003eSummary statistic: 1.0\",\"Node ID: 62\\u003cbr\\u003ePullback set label: 10\\u003cbr\\u003ePartial cluster label: -1\\u003cbr\\u003eNode size: 12\\u003cbr\\u003eSummary statistic: 1.0\",\"Node ID: 63\\u003cbr\\u003ePullback set label: 39\\u003cbr\\u003ePartial cluster label: -1\\u003cbr\\u003eNode size: 7\\u003cbr\\u003eSummary statistic: 0\",\"Node ID: 64\\u003cbr\\u003ePullback set label: 18\\u003cbr\\u003ePartial cluster label: -1\\u003cbr\\u003eNode size: 1\\u003cbr\\u003eSummary statistic: 0\",\"Node ID: 65\\u003cbr\\u003ePullback set label: 69\\u003cbr\\u003ePartial cluster label: 2\\u003cbr\\u003eNode size: 356\\u003cbr\\u003eSummary statistic: 0\",\"Node ID: 66\\u003cbr\\u003ePullback set label: 70\\u003cbr\\u003ePartial cluster label: 2\\u003cbr\\u003eNode size: 356\\u003cbr\\u003eSummary statistic: 0\",\"Node ID: 67\\u003cbr\\u003ePullback set label: 69\\u003cbr\\u003ePartial cluster label: 3\\u003cbr\\u003eNode size: 1108\\u003cbr\\u003eSummary statistic: 0\",\"Node ID: 68\\u003cbr\\u003ePullback set label: 70\\u003cbr\\u003ePartial cluster label: 3\\u003cbr\\u003eNode size: 1108\\u003cbr\\u003eSummary statistic: 0\",\"Node ID: 69\\u003cbr\\u003ePullback set label: 69\\u003cbr\\u003ePartial cluster label: 7\\u003cbr\\u003eNode size: 568\\u003cbr\\u003eSummary statistic: 0\",\"Node ID: 70\\u003cbr\\u003ePullback set label: 70\\u003cbr\\u003ePartial cluster label: 5\\u003cbr\\u003eNode size: 568\\u003cbr\\u003eSummary statistic: 0\",\"Node ID: 71\\u003cbr\\u003ePullback set label: 69\\u003cbr\\u003ePartial cluster label: 4\\u003cbr\\u003eNode size: 654\\u003cbr\\u003eSummary statistic: 0\",\"Node ID: 72\\u003cbr\\u003ePullback set label: 70\\u003cbr\\u003ePartial cluster label: 4\\u003cbr\\u003eNode size: 654\\u003cbr\\u003eSummary statistic: 0\",\"Node ID: 73\\u003cbr\\u003ePullback set label: 69\\u003cbr\\u003ePartial cluster label: 9\\u003cbr\\u003eNode size: 103\\u003cbr\\u003eSummary statistic: 0\",\"Node ID: 74\\u003cbr\\u003ePullback set label: 69\\u003cbr\\u003ePartial cluster label: 5\\u003cbr\\u003eNode size: 117\\u003cbr\\u003eSummary statistic: 0\",\"Node ID: 75\\u003cbr\\u003ePullback set label: 69\\u003cbr\\u003ePartial cluster label: 6\\u003cbr\\u003eNode size: 329\\u003cbr\\u003eSummary statistic: 0\",\"Node ID: 76\\u003cbr\\u003ePullback set label: 5\\u003cbr\\u003ePartial cluster label: -1\\u003cbr\\u003eNode size: 2\\u003cbr\\u003eSummary statistic: 0\",\"Node ID: 77\\u003cbr\\u003ePullback set label: 6\\u003cbr\\u003ePartial cluster label: -1\\u003cbr\\u003eNode size: 1\\u003cbr\\u003eSummary statistic: 0\",\"Node ID: 78\\u003cbr\\u003ePullback set label: 25\\u003cbr\\u003ePartial cluster label: -1\\u003cbr\\u003eNode size: 7\\u003cbr\\u003eSummary statistic: 0\",\"Node ID: 79\\u003cbr\\u003ePullback set label: 69\\u003cbr\\u003ePartial cluster label: 8\\u003cbr\\u003eNode size: 301\\u003cbr\\u003eSummary statistic: 0\",\"Node ID: 80\\u003cbr\\u003ePullback set label: 70\\u003cbr\\u003ePartial cluster label: 6\\u003cbr\\u003eNode size: 301\\u003cbr\\u003eSummary statistic: 0\",\"Node ID: 81\\u003cbr\\u003ePullback set label: 52\\u003cbr\\u003ePartial cluster label: -1\\u003cbr\\u003eNode size: 2\\u003cbr\\u003eSummary statistic: 0\",\"Node ID: 82\\u003cbr\\u003ePullback set label: 62\\u003cbr\\u003ePartial cluster label: -1\\u003cbr\\u003eNode size: 1\\u003cbr\\u003eSummary statistic: 0\",\"Node ID: 83\\u003cbr\\u003ePullback set label: 69\\u003cbr\\u003ePartial cluster label: 10\\u003cbr\\u003eNode size: 127\\u003cbr\\u003eSummary statistic: 0\",\"Node ID: 84\\u003cbr\\u003ePullback set label: 70\\u003cbr\\u003ePartial cluster label: 7\\u003cbr\\u003eNode size: 127\\u003cbr\\u003eSummary statistic: 0\",\"Node ID: 85\\u003cbr\\u003ePullback set label: 15\\u003cbr\\u003ePartial cluster label: -1\\u003cbr\\u003eNode size: 2\\u003cbr\\u003eSummary statistic: 1.0\",\"Node ID: 86\\u003cbr\\u003ePullback set label: 16\\u003cbr\\u003ePartial cluster label: -1\\u003cbr\\u003eNode size: 1\\u003cbr\\u003eSummary statistic: 1.0\",\"Node ID: 87\\u003cbr\\u003ePullback set label: 11\\u003cbr\\u003ePartial cluster label: -1\\u003cbr\\u003eNode size: 2\\u003cbr\\u003eSummary statistic: 0.5\",\"Node ID: 88\\u003cbr\\u003ePullback set label: 58\\u003cbr\\u003ePartial cluster label: -1\\u003cbr\\u003eNode size: 1\\u003cbr\\u003eSummary statistic: 0\",\"Node ID: 89\\u003cbr\\u003ePullback set label: 46\\u003cbr\\u003ePartial cluster label: -1\\u003cbr\\u003eNode size: 3\\u003cbr\\u003eSummary statistic: 0\",\"Node ID: 90\\u003cbr\\u003ePullback set label: 19\\u003cbr\\u003ePartial cluster label: -1\\u003cbr\\u003eNode size: 1\\u003cbr\\u003eSummary statistic: 0\"],\"marker\":{\"color\":[0.00013605146010426983,9.385585447223147e-05,0.0008463049720417108,0.00032667908635805793,0.00023943135054246164,0.0011458034947006588,0.0007229911175376988,0.0015273004963726614,0.08644400785854617,0.006109979633401222,0.005833996287456908,0.00359204618345093,0.0028544243577545195,0.0,0.0,0.0008818342151675485,0.26666666666666666,0.25,0.061224489795918366,0.6011560693641619,0.7966101694915254,0.3870967741935484,0.0,0.0,0.06375838926174497,0.0,0.2,0.0,0.02702702702702703,0.0,0.0,0.0,0.631578947368421,0.0,0.0,0.0,0.96,1.0,0.8918918918918919,0.5384615384615384,0.8699186991869918,0.92,0.9166666666666666,0.0,0.7664670658682635,1.0,0.0,0.0,0.0,0.0,0.9285714285714286,0.875,0.7,0.0,1.0,0.0,0.0,0.0,0.0,0.0,1.0,1.0,1.0,0.0,0.0,0.0,0.0,0.0,0.0,0.0,0.0,0.0,0.0,0.0,0.0,0.0,0.0,0.0,0.0,0.0,0.0,0.0,0.0,0.0,0.0,1.0,1.0,0.5,0.0,0.0,0.0],\"colorbar\":{\"thickness\":15,\"title\":{\"side\":\"right\",\"text\":\"\"},\"xanchor\":\"left\"},\"colorscale\":[[0.0,\"rgb(0,0,255)\"],[1.0,\"rgb(255,0,0)\"]],\"line\":{\"color\":\"#888\",\"width\":1},\"opacity\":1.0,\"reversescale\":false,\"showscale\":true,\"size\":[183754,117201,33085,113261,66825,3491,19364,2619,509,1473,3771,7795,1051,514,514,1134,15,8,49,173,59,62,186,186,298,91,50,34,148,164,14,52,19,95,29,91,50,11,37,13,123,125,48,297,167,46,13,3,4,4,28,24,40,3,22,4,2,1,12,3,3,2,12,7,1,356,356,1108,1108,568,568,654,654,103,117,329,2,1,7,301,301,2,1,127,127,2,1,2,1,3,1],\"sizemin\":4,\"sizemode\":\"area\",\"sizeref\":408.34222222222223},\"mode\":\"markers\",\"name\":\"node_trace\",\"x\":[3.27352216030557,4.222322504176337,2.206554059975223,2.919161134902474,3.2297694734260323,2.50808247741608,1.3242988792714532,3.0910508502991094,-0.3127508330160709,0.9009458658147005,0.41126732528847787,1.705243198231278,2.6200420793305423,-4.1520047333048264,-4.83226215519532,2.342680993174817,-0.24034443810871184,-0.5399699048092292,0.5955207275513903,-1.0555784067082958,-1.0752333351676475,-0.24929138269637954,7.455510294389873,7.930863793141224,0.07989744337832574,1.1660295334655517,0.5189713139745005,1.5660680682105685,1.1815511425834866,1.4994714173640165,0.8402912663606442,1.9912299724949727,-1.273411559962399,2.811746466715583,3.209400952949079,2.144156039583856,-4.571425160258918,-3.8925373442526734,-1.6254255418983423,-0.3985110445054793,-2.9881761567676826,-2.4217480935706077,-2.3800611934750044,1.9115714508101083,-4.366719160525393,-3.1335686931410516,3.150279369125678,3.50032472431059,1.7369018322020418,2.596888844210813,-5.875701437719579,-5.889743705244764,-1.0800982157884655,4.06396539313995,-3.857505193522769,2.5694285425443613,1.9631586091996613,3.1594914447206497,2.347467804838182,3.046219432768399,-6.382811772317451,-5.906457631474096,-1.7338554790582013,2.7871133356609707,6.392679729625831,-1.6885005037042926,-2.4731493941589964,8.772895269371809,8.739728897416835,8.72257763027932,8.385719690746432,0.905892986163551,0.051332833691179934,5.189621343302784,4.323172833386801,2.894708578682259,0.6338547645327874,1.2425545050070608,1.866190562906355,2.7737702442358,3.6184574609176883,4.036355911029359,4.344510179170977,9.198632044068788,9.176828666376291,-4.6982466476433515,-5.322218510862508,-0.5600467569989342,-0.021238908436105465,2.2682877800237313,9.283587743659831],\"y\":[7.1272594402024465,6.550499578361263,3.878606620871411,5.520484343320589,5.936593147952699,5.814750683005578,4.202390568392547,3.5433160408165825,1.7739261179379073,1.0252977205606957,2.8990053271840526,2.2206935897044313,2.0929681524650205,-5.657056340259013,-5.058732219655737,7.144346539571731,3.3497722221902353,3.4779194923839043,2.746858727113861,0.5095611993519953,0.7434512511115617,1.5564844046398656,-4.770955617580361,-4.068572177823182,-0.11601687571980064,-1.198200973964799,-0.23424466477415373,-1.1957254404328321,0.7100003568750946,2.314665573025667,3.791585172458098,3.250988942276755,2.367729690661683,1.9106000276323618,2.882804493813825,-0.10580755824285613,0.3859317757520008,1.3462892086617455,-0.01222940776870665,-0.8422955056456871,0.3025446189782045,1.2377797400053958,0.9558639083566641,0.19671732817850382,0.9854484691470539,1.0146601282343264,-0.8350932928208463,-1.6286058619729382,-0.607678740229275,-0.26301448427536456,0.29019405360705286,1.2020765363220633,2.12581635717634,1.784330972561047,0.48637603076611885,-0.9200236875128271,-3.0091955852255126,-3.826053238979565,-2.0482423644692287,-2.256817903681473,-0.316656578803172,-0.8691513605917311,-0.31332028559542624,-1.5527952236802702,-5.937700478868172,-7.115315708531961,-6.757316601764341,-1.864397450529935,-2.685166931188609,3.6336359102152516,4.464051427370059,-7.710846826116362,-7.607244283510984,-6.785092804576168,7.421607063201289,8.588086587030606,-2.0145573842260345,-2.9849554807249,-1.961473515333186,-7.614201077878949,-7.414523114185277,2.7877555835136163,3.0069952607097536,0.9516773267503845,1.8100272313436199,3.2103935251754203,4.679692475157773,-1.124210767545147,4.489988252110361,-1.1630376622096819,-0.5365200575637752],\"type\":\"scatter\",\"uid\":\"bbf772c4-3f67-43de-a466-9936fb579335\"}],                        {\"autosize\":false,\"hovermode\":\"closest\",\"margin\":{\"b\":20,\"l\":5,\"r\":5,\"t\":40},\"showlegend\":false,\"template\":{\"data\":{\"barpolar\":[{\"marker\":{\"line\":{\"color\":\"white\",\"width\":0.5},\"pattern\":{\"fillmode\":\"overlay\",\"size\":10,\"solidity\":0.2}},\"type\":\"barpolar\"}],\"bar\":[{\"error_x\":{\"color\":\"rgb(36,36,36)\"},\"error_y\":{\"color\":\"rgb(36,36,36)\"},\"marker\":{\"line\":{\"color\":\"white\",\"width\":0.5},\"pattern\":{\"fillmode\":\"overlay\",\"size\":10,\"solidity\":0.2}},\"type\":\"bar\"}],\"carpet\":[{\"aaxis\":{\"endlinecolor\":\"rgb(36,36,36)\",\"gridcolor\":\"white\",\"linecolor\":\"white\",\"minorgridcolor\":\"white\",\"startlinecolor\":\"rgb(36,36,36)\"},\"baxis\":{\"endlinecolor\":\"rgb(36,36,36)\",\"gridcolor\":\"white\",\"linecolor\":\"white\",\"minorgridcolor\":\"white\",\"startlinecolor\":\"rgb(36,36,36)\"},\"type\":\"carpet\"}],\"choropleth\":[{\"colorbar\":{\"outlinewidth\":1,\"tickcolor\":\"rgb(36,36,36)\",\"ticks\":\"outside\"},\"type\":\"choropleth\"}],\"contourcarpet\":[{\"colorbar\":{\"outlinewidth\":1,\"tickcolor\":\"rgb(36,36,36)\",\"ticks\":\"outside\"},\"type\":\"contourcarpet\"}],\"contour\":[{\"colorbar\":{\"outlinewidth\":1,\"tickcolor\":\"rgb(36,36,36)\",\"ticks\":\"outside\"},\"colorscale\":[[0.0,\"#440154\"],[0.1111111111111111,\"#482878\"],[0.2222222222222222,\"#3e4989\"],[0.3333333333333333,\"#31688e\"],[0.4444444444444444,\"#26828e\"],[0.5555555555555556,\"#1f9e89\"],[0.6666666666666666,\"#35b779\"],[0.7777777777777778,\"#6ece58\"],[0.8888888888888888,\"#b5de2b\"],[1.0,\"#fde725\"]],\"type\":\"contour\"}],\"heatmapgl\":[{\"colorbar\":{\"outlinewidth\":1,\"tickcolor\":\"rgb(36,36,36)\",\"ticks\":\"outside\"},\"colorscale\":[[0.0,\"#440154\"],[0.1111111111111111,\"#482878\"],[0.2222222222222222,\"#3e4989\"],[0.3333333333333333,\"#31688e\"],[0.4444444444444444,\"#26828e\"],[0.5555555555555556,\"#1f9e89\"],[0.6666666666666666,\"#35b779\"],[0.7777777777777778,\"#6ece58\"],[0.8888888888888888,\"#b5de2b\"],[1.0,\"#fde725\"]],\"type\":\"heatmapgl\"}],\"heatmap\":[{\"colorbar\":{\"outlinewidth\":1,\"tickcolor\":\"rgb(36,36,36)\",\"ticks\":\"outside\"},\"colorscale\":[[0.0,\"#440154\"],[0.1111111111111111,\"#482878\"],[0.2222222222222222,\"#3e4989\"],[0.3333333333333333,\"#31688e\"],[0.4444444444444444,\"#26828e\"],[0.5555555555555556,\"#1f9e89\"],[0.6666666666666666,\"#35b779\"],[0.7777777777777778,\"#6ece58\"],[0.8888888888888888,\"#b5de2b\"],[1.0,\"#fde725\"]],\"type\":\"heatmap\"}],\"histogram2dcontour\":[{\"colorbar\":{\"outlinewidth\":1,\"tickcolor\":\"rgb(36,36,36)\",\"ticks\":\"outside\"},\"colorscale\":[[0.0,\"#440154\"],[0.1111111111111111,\"#482878\"],[0.2222222222222222,\"#3e4989\"],[0.3333333333333333,\"#31688e\"],[0.4444444444444444,\"#26828e\"],[0.5555555555555556,\"#1f9e89\"],[0.6666666666666666,\"#35b779\"],[0.7777777777777778,\"#6ece58\"],[0.8888888888888888,\"#b5de2b\"],[1.0,\"#fde725\"]],\"type\":\"histogram2dcontour\"}],\"histogram2d\":[{\"colorbar\":{\"outlinewidth\":1,\"tickcolor\":\"rgb(36,36,36)\",\"ticks\":\"outside\"},\"colorscale\":[[0.0,\"#440154\"],[0.1111111111111111,\"#482878\"],[0.2222222222222222,\"#3e4989\"],[0.3333333333333333,\"#31688e\"],[0.4444444444444444,\"#26828e\"],[0.5555555555555556,\"#1f9e89\"],[0.6666666666666666,\"#35b779\"],[0.7777777777777778,\"#6ece58\"],[0.8888888888888888,\"#b5de2b\"],[1.0,\"#fde725\"]],\"type\":\"histogram2d\"}],\"histogram\":[{\"marker\":{\"line\":{\"color\":\"white\",\"width\":0.6}},\"type\":\"histogram\"}],\"mesh3d\":[{\"colorbar\":{\"outlinewidth\":1,\"tickcolor\":\"rgb(36,36,36)\",\"ticks\":\"outside\"},\"type\":\"mesh3d\"}],\"parcoords\":[{\"line\":{\"colorbar\":{\"outlinewidth\":1,\"tickcolor\":\"rgb(36,36,36)\",\"ticks\":\"outside\"}},\"type\":\"parcoords\"}],\"pie\":[{\"automargin\":true,\"type\":\"pie\"}],\"scatter3d\":[{\"line\":{\"colorbar\":{\"outlinewidth\":1,\"tickcolor\":\"rgb(36,36,36)\",\"ticks\":\"outside\"}},\"marker\":{\"colorbar\":{\"outlinewidth\":1,\"tickcolor\":\"rgb(36,36,36)\",\"ticks\":\"outside\"}},\"type\":\"scatter3d\"}],\"scattercarpet\":[{\"marker\":{\"colorbar\":{\"outlinewidth\":1,\"tickcolor\":\"rgb(36,36,36)\",\"ticks\":\"outside\"}},\"type\":\"scattercarpet\"}],\"scattergeo\":[{\"marker\":{\"colorbar\":{\"outlinewidth\":1,\"tickcolor\":\"rgb(36,36,36)\",\"ticks\":\"outside\"}},\"type\":\"scattergeo\"}],\"scattergl\":[{\"marker\":{\"colorbar\":{\"outlinewidth\":1,\"tickcolor\":\"rgb(36,36,36)\",\"ticks\":\"outside\"}},\"type\":\"scattergl\"}],\"scattermapbox\":[{\"marker\":{\"colorbar\":{\"outlinewidth\":1,\"tickcolor\":\"rgb(36,36,36)\",\"ticks\":\"outside\"}},\"type\":\"scattermapbox\"}],\"scatterpolargl\":[{\"marker\":{\"colorbar\":{\"outlinewidth\":1,\"tickcolor\":\"rgb(36,36,36)\",\"ticks\":\"outside\"}},\"type\":\"scatterpolargl\"}],\"scatterpolar\":[{\"marker\":{\"colorbar\":{\"outlinewidth\":1,\"tickcolor\":\"rgb(36,36,36)\",\"ticks\":\"outside\"}},\"type\":\"scatterpolar\"}],\"scatter\":[{\"fillpattern\":{\"fillmode\":\"overlay\",\"size\":10,\"solidity\":0.2},\"type\":\"scatter\"}],\"scatterternary\":[{\"marker\":{\"colorbar\":{\"outlinewidth\":1,\"tickcolor\":\"rgb(36,36,36)\",\"ticks\":\"outside\"}},\"type\":\"scatterternary\"}],\"surface\":[{\"colorbar\":{\"outlinewidth\":1,\"tickcolor\":\"rgb(36,36,36)\",\"ticks\":\"outside\"},\"colorscale\":[[0.0,\"#440154\"],[0.1111111111111111,\"#482878\"],[0.2222222222222222,\"#3e4989\"],[0.3333333333333333,\"#31688e\"],[0.4444444444444444,\"#26828e\"],[0.5555555555555556,\"#1f9e89\"],[0.6666666666666666,\"#35b779\"],[0.7777777777777778,\"#6ece58\"],[0.8888888888888888,\"#b5de2b\"],[1.0,\"#fde725\"]],\"type\":\"surface\"}],\"table\":[{\"cells\":{\"fill\":{\"color\":\"rgb(237,237,237)\"},\"line\":{\"color\":\"white\"}},\"header\":{\"fill\":{\"color\":\"rgb(217,217,217)\"},\"line\":{\"color\":\"white\"}},\"type\":\"table\"}]},\"layout\":{\"annotationdefaults\":{\"arrowhead\":0,\"arrowwidth\":1},\"autotypenumbers\":\"strict\",\"coloraxis\":{\"colorbar\":{\"outlinewidth\":1,\"tickcolor\":\"rgb(36,36,36)\",\"ticks\":\"outside\"}},\"colorscale\":{\"diverging\":[[0.0,\"rgb(103,0,31)\"],[0.1,\"rgb(178,24,43)\"],[0.2,\"rgb(214,96,77)\"],[0.3,\"rgb(244,165,130)\"],[0.4,\"rgb(253,219,199)\"],[0.5,\"rgb(247,247,247)\"],[0.6,\"rgb(209,229,240)\"],[0.7,\"rgb(146,197,222)\"],[0.8,\"rgb(67,147,195)\"],[0.9,\"rgb(33,102,172)\"],[1.0,\"rgb(5,48,97)\"]],\"sequential\":[[0.0,\"#440154\"],[0.1111111111111111,\"#482878\"],[0.2222222222222222,\"#3e4989\"],[0.3333333333333333,\"#31688e\"],[0.4444444444444444,\"#26828e\"],[0.5555555555555556,\"#1f9e89\"],[0.6666666666666666,\"#35b779\"],[0.7777777777777778,\"#6ece58\"],[0.8888888888888888,\"#b5de2b\"],[1.0,\"#fde725\"]],\"sequentialminus\":[[0.0,\"#440154\"],[0.1111111111111111,\"#482878\"],[0.2222222222222222,\"#3e4989\"],[0.3333333333333333,\"#31688e\"],[0.4444444444444444,\"#26828e\"],[0.5555555555555556,\"#1f9e89\"],[0.6666666666666666,\"#35b779\"],[0.7777777777777778,\"#6ece58\"],[0.8888888888888888,\"#b5de2b\"],[1.0,\"#fde725\"]]},\"colorway\":[\"#1F77B4\",\"#FF7F0E\",\"#2CA02C\",\"#D62728\",\"#9467BD\",\"#8C564B\",\"#E377C2\",\"#7F7F7F\",\"#BCBD22\",\"#17BECF\"],\"font\":{\"color\":\"rgb(36,36,36)\"},\"geo\":{\"bgcolor\":\"white\",\"lakecolor\":\"white\",\"landcolor\":\"white\",\"showlakes\":true,\"showland\":true,\"subunitcolor\":\"white\"},\"hoverlabel\":{\"align\":\"left\"},\"hovermode\":\"closest\",\"mapbox\":{\"style\":\"light\"},\"paper_bgcolor\":\"white\",\"plot_bgcolor\":\"white\",\"polar\":{\"angularaxis\":{\"gridcolor\":\"rgb(232,232,232)\",\"linecolor\":\"rgb(36,36,36)\",\"showgrid\":false,\"showline\":true,\"ticks\":\"outside\"},\"bgcolor\":\"white\",\"radialaxis\":{\"gridcolor\":\"rgb(232,232,232)\",\"linecolor\":\"rgb(36,36,36)\",\"showgrid\":false,\"showline\":true,\"ticks\":\"outside\"}},\"scene\":{\"xaxis\":{\"backgroundcolor\":\"white\",\"gridcolor\":\"rgb(232,232,232)\",\"gridwidth\":2,\"linecolor\":\"rgb(36,36,36)\",\"showbackground\":true,\"showgrid\":false,\"showline\":true,\"ticks\":\"outside\",\"zeroline\":false,\"zerolinecolor\":\"rgb(36,36,36)\"},\"yaxis\":{\"backgroundcolor\":\"white\",\"gridcolor\":\"rgb(232,232,232)\",\"gridwidth\":2,\"linecolor\":\"rgb(36,36,36)\",\"showbackground\":true,\"showgrid\":false,\"showline\":true,\"ticks\":\"outside\",\"zeroline\":false,\"zerolinecolor\":\"rgb(36,36,36)\"},\"zaxis\":{\"backgroundcolor\":\"white\",\"gridcolor\":\"rgb(232,232,232)\",\"gridwidth\":2,\"linecolor\":\"rgb(36,36,36)\",\"showbackground\":true,\"showgrid\":false,\"showline\":true,\"ticks\":\"outside\",\"zeroline\":false,\"zerolinecolor\":\"rgb(36,36,36)\"}},\"shapedefaults\":{\"fillcolor\":\"black\",\"line\":{\"width\":0},\"opacity\":0.3},\"ternary\":{\"aaxis\":{\"gridcolor\":\"rgb(232,232,232)\",\"linecolor\":\"rgb(36,36,36)\",\"showgrid\":false,\"showline\":true,\"ticks\":\"outside\"},\"baxis\":{\"gridcolor\":\"rgb(232,232,232)\",\"linecolor\":\"rgb(36,36,36)\",\"showgrid\":false,\"showline\":true,\"ticks\":\"outside\"},\"bgcolor\":\"white\",\"caxis\":{\"gridcolor\":\"rgb(232,232,232)\",\"linecolor\":\"rgb(36,36,36)\",\"showgrid\":false,\"showline\":true,\"ticks\":\"outside\"}},\"title\":{\"x\":0.05},\"xaxis\":{\"automargin\":true,\"gridcolor\":\"rgb(232,232,232)\",\"linecolor\":\"rgb(36,36,36)\",\"showgrid\":false,\"showline\":true,\"ticks\":\"outside\",\"title\":{\"standoff\":15},\"zeroline\":false,\"zerolinecolor\":\"rgb(36,36,36)\"},\"yaxis\":{\"automargin\":true,\"gridcolor\":\"rgb(232,232,232)\",\"linecolor\":\"rgb(36,36,36)\",\"showgrid\":false,\"showline\":true,\"ticks\":\"outside\",\"title\":{\"standoff\":15},\"zeroline\":false,\"zerolinecolor\":\"rgb(36,36,36)\"}}},\"title\":{\"text\":\"\"},\"xaxis\":{\"showgrid\":false,\"showline\":false,\"showticklabels\":false,\"ticks\":\"\",\"title\":{\"text\":\"\"},\"zeroline\":false},\"yaxis\":{\"showgrid\":false,\"showline\":false,\"showticklabels\":false,\"ticks\":\"\",\"title\":{\"text\":\"\"},\"zeroline\":false}},                        {\"scrollZoom\": true, \"responsive\": true}                    ).then(function(){\n",
              "                            \n",
              "var gd = document.getElementById('fb3a3eab-5a41-4a56-8c01-77fa3c13031c');\n",
              "var x = new MutationObserver(function (mutations, observer) {{\n",
              "        var display = window.getComputedStyle(gd).display;\n",
              "        if (!display || display === 'none') {{\n",
              "            console.log([gd, 'removed!']);\n",
              "            Plotly.purge(gd);\n",
              "            observer.disconnect();\n",
              "        }}\n",
              "}});\n",
              "\n",
              "// Listen for the removal of the full notebook cells\n",
              "var notebookContainer = gd.closest('#notebook-container');\n",
              "if (notebookContainer) {{\n",
              "    x.observe(notebookContainer, {childList: true});\n",
              "}}\n",
              "\n",
              "// Listen for the clearing of the current output cell\n",
              "var outputEl = gd.closest('.output');\n",
              "if (outputEl) {{\n",
              "    x.observe(outputEl, {childList: true});\n",
              "}}\n",
              "\n",
              "                        })                };                            </script>        </div>\n",
              "</body>\n",
              "</html>"
            ]
          },
          "metadata": {},
          "output_type": "display_data"
        }
      ],
      "source": [
        " # 1. Filter function\n",
        "filter_func = FilterFunction(n_neighbors = 1, n_jobs=-1)\n",
        "\n",
        "# 2. Cover\n",
        "cover = CubicalCover(n_intervals = 7, overlap_frac = 0.3)\n",
        "# 3. Clustering\n",
        "clusterer = DBSCAN(eps=0.3, min_samples=100)\n",
        "pipe = make_mapper_pipeline(scaler = MinMaxScaler(), filter_func=filter_func, cover=cover, clusterer=clusterer, verbose=True, n_jobs=-1)\n",
        "plotly_params = {\"edge_trace\": {\"line_width\": 0.2}, \"node_trace\": {\"marker_colorscale\":'Bluered'}}\n",
        "fig = plot_static_mapper_graph(pipe, X, layout='fr', color_data=y, node_scale=30, plotly_params=plotly_params)\n",
        "fig.show(config={'scrollZoom': True})\n"
      ]
    }
  ],
  "metadata": {
    "colab": {
      "provenance": []
    },
    "kernelspec": {
      "display_name": "Python 3",
      "name": "python3"
    },
    "language_info": {
      "name": "python"
    }
  },
  "nbformat": 4,
  "nbformat_minor": 0
}
